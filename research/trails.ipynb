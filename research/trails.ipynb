{
 "cells": [
  {
   "cell_type": "code",
   "execution_count": 7,
   "id": "ef714a5d-839a-439d-853d-4c0ecf12960e",
   "metadata": {},
   "outputs": [],
   "source": [
    "from langchain_astradb import AstraDBVectorStore\n",
    "from langchain_openai import OpenAIEmbeddings\n",
    "from dotenv import load_dotenv\n",
    "import os"
   ]
  },
  {
   "cell_type": "code",
   "execution_count": 8,
   "id": "296ac87c-310f-407e-93e4-96ee035c928d",
   "metadata": {},
   "outputs": [
    {
     "data": {
      "text/plain": [
       "True"
      ]
     },
     "execution_count": 8,
     "metadata": {},
     "output_type": "execute_result"
    }
   ],
   "source": [
    "load_dotenv()\n"
   ]
  },
  {
   "cell_type": "code",
   "execution_count": 9,
   "id": "d67adfe1-c176-4b7b-b485-4f1a91ea2b6c",
   "metadata": {},
   "outputs": [],
   "source": [
    "OPENAI_API_KEY = os.getenv(\"OPENAI_API_KEY\")\n",
    "os.environ[\"OPENAI_API_KEY\"] = OPENAI_API_KEY"
   ]
  },
  {
   "cell_type": "code",
   "execution_count": 29,
   "id": "004b5549-2909-44ef-944a-d3db53d40984",
   "metadata": {},
   "outputs": [],
   "source": [
    "embeddings = OpenAIEmbeddings(model=\"text-embedding-3-small\")"
   ]
  },
  {
   "cell_type": "code",
   "execution_count": 23,
   "id": "a06f895e-f833-4a7c-ae20-4dd1c7bf7212",
   "metadata": {},
   "outputs": [
    {
     "data": {
      "text/plain": [
       "OpenAIEmbeddings(client=<openai.resources.embeddings.Embeddings object at 0x14249f440>, async_client=<openai.resources.embeddings.AsyncEmbeddings object at 0x14249e3f0>, model='text-embedding-ada-002', dimensions=None, deployment='text-embedding-ada-002', openai_api_version='', openai_api_base=None, openai_api_type='', openai_proxy='', embedding_ctx_length=8191, openai_api_key=SecretStr('**********'), openai_organization=None, allowed_special=None, disallowed_special=None, chunk_size=1000, max_retries=2, request_timeout=None, headers=None, tiktoken_enabled=True, tiktoken_model_name=None, show_progress_bar=False, model_kwargs={}, skip_empty=False, default_headers=None, default_query=None, retry_min_seconds=4, retry_max_seconds=20, http_client=None, http_async_client=None, check_embedding_ctx_length=True)"
      ]
     },
     "execution_count": 23,
     "metadata": {},
     "output_type": "execute_result"
    }
   ],
   "source": [
    "embeddings"
   ]
  },
  {
   "cell_type": "code",
   "execution_count": 30,
   "id": "a816103b-4df2-4877-bb43-f8db00fdd2a8",
   "metadata": {},
   "outputs": [
    {
     "data": {
      "text/plain": [
       "OpenAIEmbeddings(client=<openai.resources.embeddings.Embeddings object at 0x1418a28a0>, async_client=<openai.resources.embeddings.AsyncEmbeddings object at 0x105c0b590>, model='text-embedding-3-small', dimensions=None, deployment='text-embedding-ada-002', openai_api_version='', openai_api_base=None, openai_api_type='', openai_proxy='', embedding_ctx_length=8191, openai_api_key=SecretStr('**********'), openai_organization=None, allowed_special=None, disallowed_special=None, chunk_size=1000, max_retries=2, request_timeout=None, headers=None, tiktoken_enabled=True, tiktoken_model_name=None, show_progress_bar=False, model_kwargs={}, skip_empty=False, default_headers=None, default_query=None, retry_min_seconds=4, retry_max_seconds=20, http_client=None, http_async_client=None, check_embedding_ctx_length=True)"
      ]
     },
     "execution_count": 30,
     "metadata": {},
     "output_type": "execute_result"
    }
   ],
   "source": [
    "embeddings"
   ]
  },
  {
   "cell_type": "code",
   "execution_count": 25,
   "id": "a91473e8-737c-4706-978d-f2e58476612b",
   "metadata": {},
   "outputs": [],
   "source": [
    "ASTRA_DB_API_ENDPOINT = \"\"\n",
    "ASTRA_DB_APPLICATION_TOKEN = \"\"\n",
    "ASTRA_DB_KEYSPACE = \"\""
   ]
  },
  {
   "cell_type": "code",
   "execution_count": 26,
   "id": "f61dc210-5dbf-4cee-a19a-92e3a2b18607",
   "metadata": {},
   "outputs": [],
   "source": [
    "api_endpoint = ASTRA_DB_API_ENDPOINT,\n",
    "token = ASTRA_DB_APPLICATION_TOKEN,\n",
    "namespace = ASTRA_DB_KEYSPACE"
   ]
  },
  {
   "cell_type": "code",
   "execution_count": 27,
   "id": "d49fe743-ea75-48b2-8a24-1514ff6aa8ea",
   "metadata": {},
   "outputs": [],
   "source": [
    "collection_name = \"IntusWindowBot\""
   ]
  },
  {
   "cell_type": "code",
   "execution_count": 31,
   "id": "7e940701-de8b-4883-a454-9d488acfb18a",
   "metadata": {},
   "outputs": [],
   "source": [
    "vstore = AstraDBVectorStore(\n",
    "    embedding = embeddings,\n",
    "    collection_name = collection_name,\n",
    "    api_endpoint = ASTRA_DB_API_ENDPOINT,\n",
    "    token = ASTRA_DB_APPLICATION_TOKEN,\n",
    "    namespace = ASTRA_DB_KEYSPACE\n",
    ")"
   ]
  },
  {
   "cell_type": "code",
   "execution_count": 32,
   "id": "3d368eb3-eb94-4b16-8d74-32ef95f3ae39",
   "metadata": {},
   "outputs": [],
   "source": [
    "from langchain_community.document_loaders import PyPDFLoader"
   ]
  },
  {
   "cell_type": "code",
   "execution_count": 39,
   "id": "b2ac73e1-2545-4eb1-b49d-c5d9613faf08",
   "metadata": {},
   "outputs": [],
   "source": [
    "pdf_paths = [\"/Users/vipulmunot/Documents/intus/data/f1.pdf\", \"/Users/vipulmunot/Documents/intus/data/f2.pdf\"]\n",
    "all_pages = []"
   ]
  },
  {
   "cell_type": "code",
   "execution_count": 44,
   "id": "53330272-36b7-402e-825b-71ecd7cec048",
   "metadata": {},
   "outputs": [
    {
     "name": "stdout",
     "output_type": "stream",
     "text": [
      "Loaded 14 pages from /Users/vipulmunot/Documents/intus/data/f1.pdf\n",
      "Loaded 13 pages from /Users/vipulmunot/Documents/intus/data/f2.pdf\n",
      "Total pages loaded: 54\n"
     ]
    }
   ],
   "source": [
    "for path in pdf_paths:\n",
    "    loader = PyPDFLoader(path)\n",
    "    pages = loader.load()\n",
    "    all_pages.extend(pages)\n",
    "    print(f\"Loaded {len(pages)} pages from {path}\")\n",
    "print(f\"Total pages loaded: {len(all_pages)}\")"
   ]
  },
  {
   "cell_type": "code",
   "execution_count": 45,
   "id": "beb016bc-3f3f-41bf-b5e7-5d7f36b720b8",
   "metadata": {},
   "outputs": [
    {
     "data": {
      "text/plain": [
       "[Document(metadata={'source': '/Users/vipulmunot/Documents/intus/data/f1.pdf', 'page': 0}, page_content='PART II          3 : 1\\nA Preservation Handbook for Historic Residential Properties & DistrictsContext & Character\\nWindows are character-defining features of most \\nhistoric structures. They give scale to buildings \\nand are an essential element in the architectural \\ncomposition of individual facades. Distinct \\nwindow designs and the pattern of windows (the \\nfenestration) help to define many historic building \\nstyles. \\nHistoric windows differ from contemporary ones in \\nfundamental ways. One is their relationship to the \\nwall plane of the building. Historic windows are \\noften inset into relatively deep openings or reveals. \\nSecond, they have surrounding casings and sash \\ncomponents with substantial and complex profiles \\nwhich cast shadows. These shadows then create \\neven more complex patterns on the facade. The \\nwindow proportion, profiles and details often help \\nto define the age and style of the building. \\nBecause windows so significantly affect the \\ncharacter of a historic structure, the treatment of a \\nhistoric window and also the design of a new one, \\nare consequently very important considerations.\\nDesign Objective\\nThe character-defining features of historic windows \\nand their distinct arrangement should be preserved. \\nIn addition, new windows should be in character with \\nthe historic building. This is especially important on \\nprimary facades.CONTEXT & CHARACTER  3 : 1\\nDESIGN OBJECTIVE  3 : 1\\nWINDOW FEATURES  3 : 2\\nWINDOW TYPES  3 : 2\\nWINDOW DETERIORATION  3 : 2\\nWINDOW REPAIR  3 : 4\\nENERGY CONSERVATION  3 : 6\\nREPLACEMENT WINDOWS  3 : 8\\nHISTORIC GLASS  3 : 11\\nADDITIONAL INFORMATION  3 : 12\\nWindows help to \\ndefine the design \\ncomposition, style and \\nhistoric integrity of a \\nbuilding.\\nOrnamental trim \\naround historic \\nwindows should be \\nretained.\\nChapter 3. Windows'),\n",
       " Document(metadata={'source': '/Users/vipulmunot/Documents/intus/data/f1.pdf', 'page': 1}, page_content='PART II   Design Guidelines\\nSalt Lake City \\n3 : 2   PART IIWindow Types\\nWindows types typically found in historic structures \\nin Salt Lake City (see sketches) include:\\n• Casement - Hinged windows that swing open, \\ntypically to the outside\\n• Double hung sash - Two sash elements, one \\nabove the other. Both upper and lower sash \\nslide within tracks on the window jambs.\\n• Fixed - The sash does not move.\\n• Single hung sash - Two sash elements, one \\nabove the other. Only the lower sash moves.\\n• Ornamental or specialty windows - Unusual \\nshapes, such as a circular window; or distinct \\nglazing patterns, such as a diamond-shaped, \\nmulti-pane window subdivided with wood \\nmuntins or lead cames, which may be \\nassociated with a particular building style. \\nThese may be fixed or operable.\\nWindows are also defined and characterized by their \\nmaterials. Wood frames are the common residential \\ntype, often combined with decorative leadwork. \\nSteel frames become more popular for residential \\nbuildings with changes in manufacturing and style, \\nusually in casement form and often for apartment \\nbuildings. Each material has a very distinctive \\ncharacter. Each is also strong and durable.\\nDeterioration of Historic Windows \\nProperly maintained, original wood windows \\nwill provide excellent service indefinitely. \\nMost problems that occur result from a lack of \\nmaintenance. The accumulation of layers of paint \\non a wood sash for example may make operation \\ndifficult. Using proper painting techniques, such as \\nremoving upper paint layers and preparing a proper \\nsubstrate, can solve this problem. Repairs to restore \\nthe functionality and efficiency of a double-hung \\nsash, for example, are usually relatively simple.Window Features \\nThe size, shape, proportions and profiles of a \\nhistoric window are among its essential features. \\nMany early residential windows in Salt Lake City \\nwere vertically-proportioned, for example. Another \\nimportant feature is the number of “lights,” or \\npanes dividing a window. Typical windows for \\nmany late nineteenth century cottages were “one-\\nover-one” sash types, in which one large pane of \\nglass was hung above another single pane. Other \\nimportant features are the design of surrounding \\nwindow casings, the depth and profile of window \\nsash elements, and the materials of which they were \\nconstructed. \\nThe majority of early residential windows use wood \\nas a framing material. From the late 19th century \\nsteel became a window frame option, initially for \\ncommercial, industrial and civic buildings, and \\nincreasingly for residential structures. In both cases,  \\nwood or metal, the components of the frame have \\ndistinct roles, patterns, dimensions and profiles, \\narising from a combination of style and function.\\nThe manner in which windows are combined or \\narranged on a building facade (the fenestration) \\nalso may be distinctly associated with a building \\nstyle. For example, on some bungalows a large \\ncentral pane of fixed glass was flanked by a pair \\nof vertically-proportioned casement windows. \\nThis compound window frequently occurred on \\nbuilding fronts under broad porches. (See the \\ndiscussion of individual building styles in the \\nHistoric Context and Architectural Styles, PART I \\nSection 4, for additional information about specific \\nwindow types.) All of these features are elements of \\nhistoric window designs that should be preserved.'),\n",
       " Document(metadata={'source': '/Users/vipulmunot/Documents/intus/data/f1.pdf', 'page': 2}, page_content='PART II          3 : 3Chapter 3. Windows\\nA Preservation Handbook for Historic Residential Properties & Districts\\nComposite Window\\nCharacteristic of: \\n• Classical Revival(simpler than \\nabove)\\n• Bungalow\\n• All Victorian styles\\n• Dutch Colonial Revival\\n• Four Square\\nDiamond Pattern Window\\nCharacteristic of:\\n• Tudor Revival\\n• Dutch Colonial Revival\\nGeometric Window\\nCharacteristic of: \\n• Queen Anne\\n• Italianate\\n• Second Empire\\n• Art Moderne\\nDouble-hung Window\\nCharacteristic of:\\nAll styles except Art Moderne or \\nInternational Style.Historic Buildings - Typical Window Types and Styles\\nCraftsman Window\\nCharacteristic of:\\n• Bungalow\\n• Prairie Style\\n• Foursquare\\nCasement Window\\nCharacteristic of:\\n• Tudor Revival\\n• Prairie Style\\n• International Style (with steel \\nmuntins)\\n• Arts & Crafts\\n• Ranch\\n'),\n",
       " Document(metadata={'source': '/Users/vipulmunot/Documents/intus/data/f1.pdf', 'page': 3}, page_content='PART II   Design Guidelines\\nSalt Lake City \\n3 : 4   PART IIOften the appearance of peeling paint creates a \\nvisual impression of deterioration, when in most \\ncases the wood frame may be structurally sound and \\nstable, and may warrant only remedial maintenance \\nor perhaps minor repair.\\nWater damage and the degradation caused by \\nsunlight are concerns. If surfaces fail to drain \\nproperly, water may collect and eventually seep \\nthrough. Condensation during winter months \\ncan also cause problems over time. Deterioration \\nwill gradually occur when the paint surface or \\nthe putty is cracked, peeling or loose. Decay may \\nmake operation of the window difficult and, if left \\nuntreated, can result in significant deterioration \\nof window components. In most cases, historic \\nwindows are not susceptible to damage if a good \\ncoat of paint is maintained and the putty is sound.\\nSteel frames are vulnerable to the same processes, \\nalthough they react differently. Moisture \\npenetration to the frame will cause rust which will \\ngradually expand and distort the surface of the \\nframe section. The rusting of steel frames tends \\nto be slow and in most cases the corrosion will be \\nrelatively superficial, with the original frame still \\nstructurally sound. \\nRepair of Historic Windows\\nWhenever possible, repair a historic window, rather \\nthan replace it. In most cases it is in fact easier, and \\nmore economical, to repair an existing window \\nrather than to replace it. In addition the original \\nmaterials contribute to the historic character of the \\nbuilding. The materials and craftsmanship tend to \\nbe of very high quality, and even when replaced \\nwith an exact duplicate window, which is difficult \\nto achieve, a portion of the historic building fabric \\nis lost and therefore such treatment should be \\navoided. When considering whether to repair or \\nreplace a historic window, evaluate the following:Ornamental windows, such as these \\nintricate stained glass designs, are \\ncharacter-defining features which \\ncontribute significantly to the \\nhistoric and architectural integrity of \\nthe building.\\nSafety concerns relating to handling lead-based paint should \\nbe borne in mind when working with paintwork dating from \\nbefore 1978. There are a series of recommendations and/or \\nrequirements for lead-safe working which should be reviewed \\nprior to any work.  Lead-based paint should not be considered \\na reason to remove and replace historic, character-defining \\nmaterials or features, including windows, doors details and \\ntrim. There are remedial techniques which can be used to \\neither safely remove or encapsulate any lead-based paint. \\nSee the accompanying links for further information.\\nhttp://blog.preservationnation.org/2010/07/20/new-rule-shines-\\nspotlight-on-lead-paint/#.UbYa8p3nYXw\\nhttp://www.nps.gov/tps/how-to-preserve/briefs/37-lead-paint-\\nhazards.htm\\n'),\n",
       " Document(metadata={'source': '/Users/vipulmunot/Documents/intus/data/f1.pdf', 'page': 4}, page_content='PART II          3 : 5Chapter 3. Windows\\nA Preservation Handbook for Historic Residential Properties & Districts\\nFirst, determine the window’s architectural \\nsignificance. Is it a key character-defining element \\nof the building? Typically, windows on the front \\nof the building, and on sides designed to be visible \\nfrom the street, are key character-defining elements. \\nA window in an obscure location, or on the rear \\nof a structure, may not be. Greater flexibility in \\nthe treatment or replacement of such secondary \\nwindows may be appropriate.\\nSecond, inspect the window to determine \\nits condition. Distinguish superficial signs of \\ndeterioration from the actual failure of window \\ncomponents. Peeling paint and dried wood, for \\nexample, may be more superficial than serious \\nproblems, and often do not indicate that a window \\nis beyond repair. What constitutes a deteriorated \\nwindow? A rotted sill may require its replacement, \\nbut it does not indicate the need for an entire new \\nwindow. Determining window condition should \\noccur on a case-by-case basis. However, as a general \\nrule, a window merits preservation, with perhaps \\nselective replacement of components. If more than \\n50 percent of the window components can not be \\nrepaired, then consider replacement. \\nThird, determine the appropriate treatment for the \\nwindow. Where the window is inoperable, remove \\nexcess paint and free or replace any mechanism \\ncomponents that don’t work. Surfaces may require \\ncleaning and patching. Some components may \\nhave deteriorated beyond repair. Patching and \\nsplicing in new material for only those portions \\nthat are decayed should be considered in such a \\ncase, rather than replacing the entire window. If \\nthe entire window must be replaced, the new one \\nshould match the original in appearance. (See \\n“Replacement Windows” in following section.)\\nDouble-hung sash window componentsMuntin\\nStile\\nStops\\nJamb\\nCasing\\nRailWall\\nGlazing\\nSash\\nSillHead\\nCasement window componentsMuntinStile\\nJamb\\nRailGlazingHead'),\n",
       " Document(metadata={'source': '/Users/vipulmunot/Documents/intus/data/f1.pdf', 'page': 5}, page_content='PART II   Design Guidelines\\nSalt Lake City \\n3 : 6   PART II3.1 The functional and decorative features of a \\nhistoric window should be preserved.\\n• Features important to the character of a \\nwindow include its frame, sash, muntins, \\nmullions, glazing, sills, heads, jambs, moldings, \\noperation, and the groupings of windows.\\n• Frames and sashes should be repaired rather \\nthan replaced whenever conditions permit.\\n3.2 The position, number, and arrangement of \\nhistoric windows in a building wall should be \\npreserved.\\n• Enclosing a historic window opening in \\na key character-defining facade would be \\ninappropriate, as would adding a new window \\nopening. \\n• This is especially important on primary \\nfacades, where the historic ratio of solid-to-\\nvoid is a character-defining feature. Greater \\nflexibility in installing new windows may be \\nappropriate on rear walls or areas not visible \\nfrom the public way.\\nEnergy Conservation\\nIn some cases, owners may be concerned that an \\nolder window is less efficient in terms of energy \\nconservation. In winter, for example, heat loss \\nassociated with an older window may make a room \\nuncomfortable and increase heating costs. In fact, \\nmost heat loss is associated with air leakage through \\ngaps around the frame sections of an older window, \\nand  is often the result of insufficient maintenance \\nover time. Loss of energy through the single pane \\nof glass found in historic windows is a very small \\nproportion of the total. Glazing compound may be \\ncracked or missing, allowing air to move around the \\nglass. Sash members also may have shifted, leaving \\na gap for heat loss.Historic window frames are well constructed and made from \\ntough and durable wood. With minimum maintenance they will \\nlast as long as the building, Maintaining the glazing compound \\nand sound paintwork, with minimal maintenance of opening \\nmechanism and sliding surfaces, is usually all that is required. \\nWhen weather-stripped, and with the addition of a storm \\nwindow, they will match the energy efficiency of replacements \\nand out-perform them in acoustic insulation. They are also \\nmaintainable, rather than having to be completely replaced \\nwhen a component fails.\\nwww.nps.gov/tps/sustainability/research.htm\\n'),\n",
       " Document(metadata={'source': '/Users/vipulmunot/Documents/intus/data/f1.pdf', 'page': 6}, page_content='PART II          3 : 7Chapter 3. Windows\\nA Preservation Handbook for Historic Residential Properties & Districts\\nThe most cost-effective energy conservation \\nmeasures for most historic windows are to replace \\nglazing compound, repair the wood members if \\nnecessary (usually the frame will be structurally \\nsound) and install weather stripping. These steps \\nwill dramatically reduce heat loss, while preserving \\nthe character-defining historic features of the \\nwindow. They will also improve acoustic efficiency.\\nSteel frames can be upgraded through attention to \\nand removal of paint or rust accumulation, followed \\nby weatherization. Paint and rust become common \\nissues that result from deferred maintenance and \\nthat can inhibit the effective opening and operation \\nof the window. Remedial work will restore the \\nprofiles of the opening and fixed sections of the \\nframe and the precise fit of the original frame. The \\nwindow can then be weatherstripped to enhance \\nenergy and acoustic efficiency.\\nWhere additional energy or acoustic efficiency \\nmight be a concern, consider installing a storm \\nwindow. It may be applied to the interior or the \\nexterior of the window. A storm window should be \\ndesigned to match the historic window divisions \\nsuch that the exterior appearance of the original \\nwindow is not obscured. \\nResearch in recent years confirms that a weatherized \\nhistoric window with an additional storm window \\n(internal or external) will match or exceed the \\nenergy efficiency of a replacement window, at \\na small proportion of the cost. Acoustically, the \\noriginal with a storm window will tend to be more \\nefficient than a replacement window, as a result of \\nthe wider air gap between the two planes of glass. \\nRefer to the Additional Information section at \\nthe end of this chapter, or the Appendix, for more \\ninformation.Maintenance tips for Windows\\n• Maintain a good coat of paint on all exposed surfaces.\\n• Replace old glazing compound.\\n• Install new weather-stripping to reduce air leaks.When a window is to be replaced, the new one \\nshould match the appearance of the original to \\nthe greatest extent possible.\\nExternal wood-framed storm windows designed \\nto fit the primary framework of the original.'),\n",
       " Document(metadata={'source': '/Users/vipulmunot/Documents/intus/data/f1.pdf', 'page': 7}, page_content='PART II   Design Guidelines\\nSalt Lake City \\n3 : 8   PART II3.3 To enhance energy efficiency, a storm window \\nshould be used to supplement rather than replace \\na historic window. \\n• Install a storm window on the interior where \\nfeasible. This will allow the character of the \\noriginal window to be seen from the public \\nway. \\n• If a storm window is to be installed on the \\nexterior, match the sash design of the original \\nwindows. \\n• A metal storm window may be appropriate. \\n• The storm window should fit tightly within \\nthe window opening without the need for sub \\nframes around the perimeter. \\n• Match the color of the storm window sash with \\nthe color of the window frame; avoid a milled \\n(a silver metallic) aluminum finish if possible.\\n• Finally, set the sash of the storm window back \\nfrom the plane of the wall surface as far as \\npossible. \\nReplacement Windows \\nWhile replacing an entire window assembly is \\ndiscouraged, it may be necessary in some cases. \\nWhen a window is to be replaced, the new one \\nshould match the appearance of the original to \\nthe greatest extent possible. To do so, the size and \\nproportion of window elements, including glass \\nand sash components, should match the original. In \\nmost cases, the original profile, or outline of the sash \\ncomponents, should be the same as the original. At \\na minimum, the replacement components should \\nmatch the original in dimension and profile and \\nthe original depth of the window opening (reveal)\\nshould be maintained.The curved sash glass and frame in these \\nwindows are distinctive features that \\nshould be preserved.\\nYes         No\\nPreserve the historic ratio of window \\nopenings to solid wall on a primary facade.\\n No          Historic\\nA replacement window should match the \\noriginal in its design. The new window (on \\nthe left) is smaller than the historic opening \\nand would be inappropriate.\\n'),\n",
       " Document(metadata={'source': '/Users/vipulmunot/Documents/intus/data/f1.pdf', 'page': 8}, page_content='PART II          3 : 9Chapter 3. Windows\\nA Preservation Handbook for Historic Residential Properties & Districts\\nA frequent concern is the material of the \\nreplacement window. While wood was most often \\nused historically, metal and vinyl clad windows \\nare common on the market today and sometimes \\nare suggested as replacement options by window \\nsuppliers. In general, using the same material as \\nthe original is preferred. If the historic window was \\nwood, then using a wood replacement is the best \\napproach.\\nHowever, it is possible to consider alternative \\nmaterials in some special cases, if the resulting \\nappearance will match that of the original, in terms \\nof the finish of the material, its proportions and the \\nprofiles of the sash members. For example, if a metal \\nwindow is to be used as a substitute for a wood \\none, the sash components should be similar in size \\nand design to those of the original. The substitute \\nmaterial also should have a demonstrated durability \\nin similar applications in this climate.\\nFinally, when replacing a historic window, it is \\nimportant to preserve the original frame casing \\nwhenever feasible. This trim element often \\nconveys distinctive stylistic features associated \\nwith the historic building style and may be costly \\nto reproduce. Many good window manufacturers \\ntoday provide replacement windows that will fit \\nexactly within historic window casings.\\n3.4 The historic ratio of window openings to solid \\nwall on a primary facade should be preserved. \\n• Significantly increasing the amount of glass \\non a character-defining facade will negatively \\naffect the integrity of the structure. \\nWhen replacing a historic window, \\nmatch the profile of the sash and its \\ncomponents, as closely as possible to that \\nof the original window.\\nUnacceptable replacement profile\\nAppropriate replacement profile'),\n",
       " Document(metadata={'source': '/Users/vipulmunot/Documents/intus/data/f1.pdf', 'page': 9}, page_content='PART II   Design Guidelines\\nSalt Lake City \\n3 : 10    PART II3.5 The size and proportion of a historic window \\nopening should be retained. \\n• An original opening should not be reduced to \\naccommodate a smaller window, nor increased \\nto receive a larger window, since either is likely \\nto disrupt the design composition.\\n3.6 A replacement window should match the \\noriginal in its design. \\n• If the original is double-hung, then the \\nreplacement window should also be double-\\nhung, or at a minimum appear to be so. \\n• Match the replacement also in the number and \\nposition of glass panes. \\n• Matching the original design is particularly \\nimportant on key character-defining facades.\\n3.7 Match the profile of the sash and its \\ncomponents, as closely as possible to that of the \\noriginal window. \\n• A historic wood window has a complex \\nprofile within its casing. The sash steps back \\nto the plane of the glazing (glass) in several \\nincrements (see illustrations of frame sections \\non page 3:9).\\n• These increments, which individually are \\nmeasured in fractions of an inch, are important \\ndetails.\\n• They distinguish the actual window from the \\nsurrounding plane of the wall.\\n• The profiles of wood windows allow a double-\\nhung window, for example, to bring a rich \\ntexture to the simplest structure.\\n• These profiles provide accentuated shadow \\ndetails and depth to the facades of the building.\\nFraming sections, profiles and \\nmaterials define the type of window and \\nadd considerable detail to the facade.\\n'),\n",
       " Document(metadata={'source': '/Users/vipulmunot/Documents/intus/data/f1.pdf', 'page': 10}, page_content='PART II          3 : 11Chapter 3. Windows\\nA Preservation Handbook for Historic Residential Properties & Districts\\n• In general, it is best to replace wood windows \\nwith wood on contributing structures, \\nespecially on the primary facades.\\n• Non-wood materials, such as vinyl or \\naluminum, will be reviewed on a case-by-case \\nbasis. The following will be considered: \\n• Will the original casing be preserved? \\n• Will the glazing be substantially \\ndiminished? \\n• What finish is proposed? \\n• Most importantly, what is the profile of the \\nproposed replacement window?\\n3.8 In a replacement window, use materials that \\nappear similar to the original.\\n• Using the same material as the original is \\npreferred, especially on key character-defining \\nfacades.\\n• A substitute material may be appropriate in \\nsecondary locations if the appearance of the \\nwindow components will match those of the \\noriginal in dimension, profile and finish.\\n• Installing a non-wood replacement window \\nusually removes the ability to coordinate the \\nwindows with an overall color scheme for the \\nhouse.Historic Glass\\nHistoric glass is not a matter considered in design \\nreview in Salt Lake City. An understanding of its \\nrole and origins however helps to inform decisions \\non maintenance, repair and alterations. Whether as \\na decorative feature window, or in the irregularities \\nand reflective qualities of plain historic glass, \\nit contributes significantly to the character of a \\nbuilding.\\nGlass is sometimes overlooked as a key building \\nmaterial, although it may comprise a significant \\nproportion of the facades of a building, as the \\nprimary surface in the pattern and detail of \\nwindows and doors (fenestration). Decorative glass \\nis widely used in older neighborhoods as a form of \\nartwork embellishing and celebrating the building. \\nSymbolism, pattern, color and texture are employed \\nto great creative effect in windows and doors. The \\ntraditional skills used to create leaded and stained \\nglass windows are many centuries old. Curved, \\nconvex glass is often used where a sash window is \\ndesigned to reflect a curved corner or bay.\\nThe reflective ripple \\ncharacteristics of early glass \\ncan be appeciated when \\ncompared to the regular \\nsurface of more recent \\nreplacement glass.\\n'),\n",
       " Document(metadata={'source': '/Users/vipulmunot/Documents/intus/data/f1.pdf', 'page': 11}, page_content='PART II   Design Guidelines\\nSalt Lake City \\n3 : 12    PART IIAdditional Information\\nMaintenance, Repair, Weatherization & Energy Efficiency\\n“How to Restore Sash Windows”, “Window Repair Tips”, & \\n“Glass Replacement” Old House Journal\\nwww.oldhouseonline.com/how-to-restore-sash-windows/\\nwww.oldhouseonline.com/window-repair-tips-from-john-leeke/\\nwww.oldhousejournal.com/magazine/1506\\nNational Park Service. Technical Preservation Services.\\nhttp://www.nps.gov/tps/sustainability/energy-efficiency/\\nweatherization/windows-doors.htm\\nwww.nps.gov/tps/sustainability/research.htm\\nwww.nps.gov/tps/sustainability/resources.htm\\nNational Trust for Historic Preservation. Weatherization\\nhttp://www.preservationnation.org/information-center/\\nsustainable-communities/buildings/weatherization/windows/#.\\nUbYdQp3nYXw\\nHistoric Scotland. Managing Change in the Historic \\nEnvironment - Windows . 2010\\nwww.historic-scotland.gov.uk/index/heritage/policy/\\nmanagingchange.htm\\nEnglish Heritage. Thermal Performance of Traditional \\nWindows . 2009\\nwww.english-heritage.org.uk/professional/research/buildings/\\nenergy-efficiency/thermal-performance-of-traditional-windows/\\nNorthen Ireland Environment Agency. Windows. A Guidance \\nBooklet on Openings.  Technical Note 4A. 2010\\nhttp://www.doeni.gov.uk/niea/windows_a_guidance_booklet_\\non_openings_tn_4a.pdf\\nDepartment of Arts, Heritage and the Gaeltacht. Ireland. \\nWindows. A Guide to the Repair of Historic Windows . 2007\\nwww.ahg.gov.ie/en/Publications/HeritagePublications/\\nBuiltHeritagePolicyPublications/Windows%20-%20A%20\\nGuide%20to%20the%20Repair%20of%20Historic%20\\nWindows%20(2007).pdf\\nMyers, John H. Preservation Briefs 9: The Repair of Historic \\nWooden Windows . Washington, DC: Technical Preservation \\nServices Division, National Park Service, US Department of \\nthe Interior. 1981\\nhttp://www.nps.gov/tps/how-to-preserve/briefs/9-wooden-\\nwindows.htm\\nPark, Sharon C., AIA, Preservation Briefs 13: The Repair and \\nThermal Upgrading of Historic Steel Windows . Preservation \\nTechnical Notes. Washington, DC: Technical Preservation \\nServices, National Park Service, US Department of the \\nInterior. 1984\\nhttp://www.nps.gov/tps/how-to-preserve/briefs/13-steel-\\nwindows.htm\\nPark, Sharon C., AIA, and Douglas C. Hicks. Preservation \\nBriefs 37: Appropriate Methods of Reducing Lead-Paint \\nHazards in Historic Housing . Washington, DC: Technical \\nPreservation Services Division, National Park Service, US \\nDepartment of the Interior. 2006\\nhttp://www.nps.gov/tps/how-to-preserve/briefs/37-lead-paint-\\nhazards.htmPlain window glass, as well, until the middle of \\nthe 20th century contributed its own dimension \\nin shaping light and reflection through the almost \\n‘organic’ figuring or ream in the glass. These \\ncharacteristics derive from earlier manufacturing \\nprocesses which were much more reliant on \\nindividual craft skills, ensuring that each sheet of \\nglass has unique visual qualities. The result is a \\nmedium which contributes its own character to \\ninternal and external views and reflections. The \\nsparkle and characteristics associated with historic \\nglass directly affect the perception of windows as \\nthe “eyes of a building.”\\nTo preserve these unique characteristics retain \\nearly glass wherever possible in the maintenance, \\nrehabilitation and repair of a historic building. \\nOnce lost, early glass can not be replaced. If broken, \\nreclaimed  historic glass can sometimes be found to \\nmatch the original. Reproduction glass, with historic \\nglass characteristics can be found, but at some cost. \\nRetain and reuse original glass when carrying out \\nrepairs. Where energy and acoustic performance \\nmay be a concern, consider using an internal or \\nexternal storm window, to retain the original glass \\nand its individual qualities. See the Additional \\nInformation section for further reference material.\\n'),\n",
       " Document(metadata={'source': '/Users/vipulmunot/Documents/intus/data/f1.pdf', 'page': 12}, page_content='PART II          3 : 13Chapter 3. Windows\\nA Preservation Handbook for Historic Residential Properties & Districts\\nRandl, Chad. Windows 19: Repairing Steel Casement \\nWindows . Preservation Technical Notes. Washington, DC: \\nTechnical Preservation Services, National Park Service, US \\nDepartment of the Interior. 2002\\nwww.nps.gov/tps/how-to-preserve/tech-notes/Tech-Notes-\\nWindows19.pdf\\nStaveteig, Kaaren R. Windows 22: Maintenance and Repair of  \\nHistoric Aluminum Windows . Preservation Technical Notes. \\nWashington, DC: Technical Preservation Services, National \\nPark Service, US Department of the Interior. 2008\\nwww.nps.gov/tps/how-to-preserve/tech-notes/Tech-Notes-\\nWindows22.pdf\\nVogel, Neal A. and Rolf Achilles. Preservation Briefs 33: The \\nPreservation and Repair of Historic Stained and Leaded Glass . \\nWashington, DC: Technical Preservation Services Division, \\nNational Park Service, US Department of the Interior. 2007\\nhttp://www.nps.gov/tps/how-to-preserve/briefs/33-stained-\\nleaded-glass.htm\\nNew York Landmarks Conservancy. Repairing Old and \\nHistoric Windows: A Manual for Architects and Homeowners . \\nWashington, DC:  National Trust for Historic Preservation, \\n1992\\nhttp://www.barnesandnoble.com/w/repairing-old-and-historic-\\nwindows-new-york-landmarks-conservancy/1112114773?e\\nan=9780471144182\\nFisher, Charles E. Windows 2: Installing Insulating Glass \\nin Existing Steel Window . Preservation Technical Notes. \\nWashington, DC: Technical Preservation Services, National \\nPark Service, US Department of the Interior. 1984.\\nwww.nps.gov/tps/how-to-preserve/tech-notes/Tech-Notes-\\nWindows02.pdf\\nFisher, Charles E. Windows 11: Installing Insulating Glass \\nIn Existing Wooden Sash Incorporating the Historic Glass . \\nPreservation Technical Notes. Washington, DC: Technical \\nPreservation Services, National Park Service, US Department \\nof the Interior. 1984.\\nwww.nps.gov/tps/how-to-preserve/tech-notes/Tech-Notes-\\nWindows11.pdf\\nStorm Windows\\nTrissler, W. & Fisher, C.E. Windows 3: External Storm \\nWindows: Casement Design Wooden Storm Sash . \\nPreservation Technical Notes. Washington, DC: Technical \\nPreservation Services, National Park Service, US Department \\nof the Interior. 1984\\nhttp://www.nps.gov/tps/how-to-preserve/tech-notes/Tech-\\nNotes-Windows03.pdf\\nFisher, Charles E. & Muckenfuss, Laura A. Windows 5: \\nInterior Metal Storm Windows . Preservation Technical Notes. \\nWashington, DC: Technical Preservation Services, National \\nPark Service, US Department of the Interior. 1984\\nwww.nps.gov/tps/how-to-preserve/tech-notes/Tech-Notes-\\nWindows05.pdfPark, Sharon C. Windows 8: Thermal Retrofit of Historic \\nWooden Sash Using Interior Piggyback Storm Panels . \\nPreservation Technical Notes. Washington, DC: Technical \\nPreservation Services, National Park Service, US Department \\nof the Interior. 1984\\nwww.nps.gov/tps/how-to-preserve/tech-notes/Tech-Notes-\\nWindows08.pdf\\nFisher, Charles E. Windows 9: Interior Storm Windows: \\nMagnetic Seal . Preservation Technical Notes. Washington, \\nDC: Technical Preservation Services, National Park Service, \\nUS Department of the Interior. 1984\\nwww.nps.gov/tps/how-to-preserve/tech-notes/Tech-Notes-\\nWindows09.pdf\\nFisher, Charles E. Windows 15: Interior Storms for Steel \\nCasement Windows . Preservation Technical Notes. \\nWashington, DC: Technical Preservation Services, National \\nPark Service, US Department of the Interior. 1986\\nwww.nps.gov/tps/how-to-preserve/tech-notes/Tech-Notes-\\nWindows15.pdf\\nReplacement Windows\\nReplacement Windows That Meet the Standards . Preservation \\nTechnical Notes. Washington, DC: Technical Preservation \\nServices, National Park Service, US Department of the \\nInterior\\nwww.nps.gov/tps/standards/applying-rehabilitation/successful-\\nrehab/windows-replacement.htm\\n'),\n",
       " Document(metadata={'source': '/Users/vipulmunot/Documents/intus/data/f1.pdf', 'page': 13}, page_content='Page left intentionally blank'),\n",
       " Document(metadata={'source': '/Users/vipulmunot/Documents/intus/data/f2.pdf', 'page': 0}, page_content=' 1 NOTES BY VIKASH KUMAR SINGH  \\nSUBJECT: CONSTRUCTION TECHNOLOGY  \\nCODE: CE402  \\nUNIT III : TYPES OF WINDOWS  \\n \\nDEPARTMENT OF CIVIL ENGINEERING  \\nLAKSHMI NARAIN COLLEGE OF TECHNOLOGY  \\nBHOPAL - 462021 (INDIA)  \\nI. Types  of Windows used in Buildings  \\nThere are different types of windows used in building construction to provide \\nventilation, and view. The selection of windows depends on many criteria.  \\nA window is a vented barrier provided in a wall ope ning to admit light and air into \\nthe structure and also to give outside view. Windows also increases the beauty \\nappearance of building.  \\nII. Selection Criteria for Windows  \\nSelection of suitable window in a particular place should be dependent of \\nfollowing factors.  \\n\\uf0b7 Location of room  \\n\\uf0b7 Size of room  \\n\\uf0b7 Direction of wind  \\n\\uf0b7 Climatic conditions  \\n\\uf0b7 Utility of room  \\n\\uf0b7 Architectural point of view  \\nBased on the above factors we can select the suitable window for our strictures.  \\n'),\n",
       " Document(metadata={'source': '/Users/vipulmunot/Documents/intus/data/f2.pdf', 'page': 1}, page_content=' 2 III. Types of Windows used in Buildings  \\nThere are so m any types of windows are avai lable based on their positions, \\nmaterials and functioning. Windows are classified as follows.  \\n1. Fixed windows  \\n2. Sliding windows  \\n3. Pivoted windows  \\n4. Double hung windows  \\n5. Louvered windows  \\n6. Casement windows  \\n7. Metal windows  \\n8. Sash windows  \\n9. Corner  windows  \\n10. Bay windows  \\n11. Dormer windows  \\n12. Clerestory windows  \\n13. Lantern windows  \\n14. Gable windows  \\n15. Ventilators  \\n16. Skylights  \\n \\n \\n \\n '),\n",
       " Document(metadata={'source': '/Users/vipulmunot/Documents/intus/data/f2.pdf', 'page': 2}, page_content=' 3 1. Fixed Windows  \\nFixed windows are fixed to the wall without any closing or opening operation. In \\ngeneral, they are provided to transmit the light into the room. Fully glazed shutters \\nare fixed to the window frame. The shutters provided are generally weather proof.  \\n \\n2. Sliding Windows  \\nIn this case, window shutters are movable in the frame. The movement may be \\nhorizontal or vertical based on our requirement. The movement of shutters is done \\nby the provision of roller bearings. Generally, this type of window is provided in \\nbuses, bank counters, shops etc..  \\n \\n'),\n",
       " Document(metadata={'source': '/Users/vipulmunot/Documents/intus/data/f2.pdf', 'page': 3}, page_content=' 4 3. Pivoted Windows  \\nIn this type of windows, pivots are provided to window frames. Pivot  is a shaft \\nwhich helps to oscillate the shutter. No rebates are required for the frame. The \\nswinging may either horizontal or vertical based on the position of pivots.  \\n \\n4. Double Hung Windows  \\nDouble hung windows consist of pair of shutters attached to one frame. The \\nshutters are arranged one above the other. These two shutters can slide vertically \\nwith in the frame. So, we can open the windows on top or at bottom to our required \\nlevel.  \\nTo operate the double hung windows, a chain or cord consisting metal  weights is \\nmetal provided which is connected over pulleys. So, by pulling the weights of cord \\nthe shutters can move vertically. Then we can fix the windows at our required \\nposition of ventilation or light etc..  \\n'),\n",
       " Document(metadata={'source': '/Users/vipulmunot/Documents/intus/data/f2.pdf', 'page': 4}, page_content=' 5  \\n5. Louvered Windows  \\nLouvered windows are s imilar to louvered doors which are provided for the \\nventilation without any outside vision. The louvers may be made of wood, glass or \\nmetal. Louvers can also be folded by provision of cord over pulleys. We can \\nmaintain the slope of louvers by tilting cord and lifting cord.  \\nRecommended angle of inclination of louvers is about 45o. The sloping of louvers \\nis downward to the outside to run -off the rain water. Generally, they are provided \\nfor bathrooms, toilets and privacy places etc..  \\n \\n'),\n",
       " Document(metadata={'source': '/Users/vipulmunot/Documents/intus/data/f2.pdf', 'page': 5}, page_content=' 6 6. Casement Windows  \\nCase ment windows are the widely used and common windows nowadays. The \\nshutters are attached to frame and these can be opened and closed like door \\nshutters. Rebates are provided to the frame to receive the shutters. The panels of \\nshutters may be single or multi ple. Sometimes wired mesh is provided to stop \\nentering of fly’s.  \\n \\n7. Metal Windows  \\nMetal windows, generally mild steel is used for making metal windows. These are \\nvery cheap and have more strength. So, now days these are widely using especially \\nfor public  buildings, private building etc.  \\nSome other metals like aluminum, bronze, stainless steel etc. also used to make \\nwindows. But they are costly compared to mild steel windows. For normal \\ncasement windows also, metal shutters are provided to give strong supp ort to the \\npanels.  \\n'),\n",
       " Document(metadata={'source': '/Users/vipulmunot/Documents/intus/data/f2.pdf', 'page': 6}, page_content=' 7  \\n \\n8. Sash Windows  \\nSash window is type of casement window, but in this case panels are fully glazed. \\nIt consists top, bottom and intermediate rails. The space between the rails is \\ndivided into small panels by mean of small timber members  called sash bars or \\nglazing bars.  \\n \\n'),\n",
       " Document(metadata={'source': '/Users/vipulmunot/Documents/intus/data/f2.pdf', 'page': 7}, page_content=' 8 9. Corner Windows  \\nAs in the name itself corner windows are provided at the corners of room. That \\nmeans corner windows has two faces in perpendicular directions. By providing this \\ntype of windows, light or air can be ent ered into room in two different directions.  \\nTo provide this type of window special lintel is provided in the wall. Corner \\nwindows will give aesthetic appearance to the building.  \\n \\n \\n10. Bay Windows  \\nBay windows are projected windows form wall which are provi ded to increase the \\narea of opening, which enables more ventilation and light form outside. The \\nprojection of bay windows are of different shapes. It may be triangular or \\nrectangular or polygonal etc. They give beautiful appearance to the structure.  \\n'),\n",
       " Document(metadata={'source': '/Users/vipulmunot/Documents/intus/data/f2.pdf', 'page': 8}, page_content=' 9  \\n11. Dormer Windows  \\nDormer windows are provided for sloped roofs. These are projected from the \\nsloping surface as shown in below image. They provide ventilation as well as \\nlighting to the room. They also enhance aesthetic sense of room.  \\n \\n'),\n",
       " Document(metadata={'source': '/Users/vipulmunot/Documents/intus/data/f2.pdf', 'page': 9}, page_content=' 10 12. Clerestory Windows  \\nIf the rooms in a building are of different ceiling heights, clerestory windows are \\nprovided for the room which has greater ceiling height than the other rooms. The \\nshutters able to swing with the help of cord over pulleys. These also enhances the \\nbeauty of building.  \\n \\n13. Lantern Windows  \\nLantern windows are provided for over the flat roofs. The main purpose of this \\nwindow is to provide the more light and air circulation to the interior rooms. \\nGenerally, they are projected from the roof surface so, we can close the roof \\nsurface when we required.  \\n'),\n",
       " Document(metadata={'source': '/Users/vipulmunot/Documents/intus/data/f2.pdf', 'page': 10}, page_content=' 11  \\n \\n14. Gable Windows  \\nGable windows are provided for sloped roof buildings. These windows are \\nprovided at the gable end of sloped roof so; they are called as gable windows. They \\nalso improve the appearance of building.  \\n \\n'),\n",
       " Document(metadata={'source': '/Users/vipulmunot/Documents/intus/data/f2.pdf', 'page': 11}, page_content=' 12 15. Ventilators  \\nVentilators are provided for the purpose of ventilation in the room. They are \\nprovided at greater height than windows nearer to roof level. It is in very small \\nsize. Horizontally pivoted shutters are provided for ventilators. So metimes shutter \\nis replaced by wired mesh, in this case sunshade is provided to prevent against rain \\nwater.  \\n \\n16. Skylights  \\nSkylights or generally provide d on the top of sloped roofs. To admit light into the \\nrooms, sky lights are provided. It is provided parallel to the sloping surface. Sky \\nlights can be opened when we required. Lead gutters are arranged to frame to make \\nit as waterproof.  \\n'),\n",
       " Document(metadata={'source': '/Users/vipulmunot/Documents/intus/data/f2.pdf', 'page': 12}, page_content=' 13  \\n \\n'),\n",
       " Document(metadata={'source': '/Users/vipulmunot/Documents/intus/data/f1.pdf', 'page': 0}, page_content='PART II          3 : 1\\nA Preservation Handbook for Historic Residential Properties & DistrictsContext & Character\\nWindows are character-defining features of most \\nhistoric structures. They give scale to buildings \\nand are an essential element in the architectural \\ncomposition of individual facades. Distinct \\nwindow designs and the pattern of windows (the \\nfenestration) help to define many historic building \\nstyles. \\nHistoric windows differ from contemporary ones in \\nfundamental ways. One is their relationship to the \\nwall plane of the building. Historic windows are \\noften inset into relatively deep openings or reveals. \\nSecond, they have surrounding casings and sash \\ncomponents with substantial and complex profiles \\nwhich cast shadows. These shadows then create \\neven more complex patterns on the facade. The \\nwindow proportion, profiles and details often help \\nto define the age and style of the building. \\nBecause windows so significantly affect the \\ncharacter of a historic structure, the treatment of a \\nhistoric window and also the design of a new one, \\nare consequently very important considerations.\\nDesign Objective\\nThe character-defining features of historic windows \\nand their distinct arrangement should be preserved. \\nIn addition, new windows should be in character with \\nthe historic building. This is especially important on \\nprimary facades.CONTEXT & CHARACTER  3 : 1\\nDESIGN OBJECTIVE  3 : 1\\nWINDOW FEATURES  3 : 2\\nWINDOW TYPES  3 : 2\\nWINDOW DETERIORATION  3 : 2\\nWINDOW REPAIR  3 : 4\\nENERGY CONSERVATION  3 : 6\\nREPLACEMENT WINDOWS  3 : 8\\nHISTORIC GLASS  3 : 11\\nADDITIONAL INFORMATION  3 : 12\\nWindows help to \\ndefine the design \\ncomposition, style and \\nhistoric integrity of a \\nbuilding.\\nOrnamental trim \\naround historic \\nwindows should be \\nretained.\\nChapter 3. Windows'),\n",
       " Document(metadata={'source': '/Users/vipulmunot/Documents/intus/data/f1.pdf', 'page': 1}, page_content='PART II   Design Guidelines\\nSalt Lake City \\n3 : 2   PART IIWindow Types\\nWindows types typically found in historic structures \\nin Salt Lake City (see sketches) include:\\n• Casement - Hinged windows that swing open, \\ntypically to the outside\\n• Double hung sash - Two sash elements, one \\nabove the other. Both upper and lower sash \\nslide within tracks on the window jambs.\\n• Fixed - The sash does not move.\\n• Single hung sash - Two sash elements, one \\nabove the other. Only the lower sash moves.\\n• Ornamental or specialty windows - Unusual \\nshapes, such as a circular window; or distinct \\nglazing patterns, such as a diamond-shaped, \\nmulti-pane window subdivided with wood \\nmuntins or lead cames, which may be \\nassociated with a particular building style. \\nThese may be fixed or operable.\\nWindows are also defined and characterized by their \\nmaterials. Wood frames are the common residential \\ntype, often combined with decorative leadwork. \\nSteel frames become more popular for residential \\nbuildings with changes in manufacturing and style, \\nusually in casement form and often for apartment \\nbuildings. Each material has a very distinctive \\ncharacter. Each is also strong and durable.\\nDeterioration of Historic Windows \\nProperly maintained, original wood windows \\nwill provide excellent service indefinitely. \\nMost problems that occur result from a lack of \\nmaintenance. The accumulation of layers of paint \\non a wood sash for example may make operation \\ndifficult. Using proper painting techniques, such as \\nremoving upper paint layers and preparing a proper \\nsubstrate, can solve this problem. Repairs to restore \\nthe functionality and efficiency of a double-hung \\nsash, for example, are usually relatively simple.Window Features \\nThe size, shape, proportions and profiles of a \\nhistoric window are among its essential features. \\nMany early residential windows in Salt Lake City \\nwere vertically-proportioned, for example. Another \\nimportant feature is the number of “lights,” or \\npanes dividing a window. Typical windows for \\nmany late nineteenth century cottages were “one-\\nover-one” sash types, in which one large pane of \\nglass was hung above another single pane. Other \\nimportant features are the design of surrounding \\nwindow casings, the depth and profile of window \\nsash elements, and the materials of which they were \\nconstructed. \\nThe majority of early residential windows use wood \\nas a framing material. From the late 19th century \\nsteel became a window frame option, initially for \\ncommercial, industrial and civic buildings, and \\nincreasingly for residential structures. In both cases,  \\nwood or metal, the components of the frame have \\ndistinct roles, patterns, dimensions and profiles, \\narising from a combination of style and function.\\nThe manner in which windows are combined or \\narranged on a building facade (the fenestration) \\nalso may be distinctly associated with a building \\nstyle. For example, on some bungalows a large \\ncentral pane of fixed glass was flanked by a pair \\nof vertically-proportioned casement windows. \\nThis compound window frequently occurred on \\nbuilding fronts under broad porches. (See the \\ndiscussion of individual building styles in the \\nHistoric Context and Architectural Styles, PART I \\nSection 4, for additional information about specific \\nwindow types.) All of these features are elements of \\nhistoric window designs that should be preserved.'),\n",
       " Document(metadata={'source': '/Users/vipulmunot/Documents/intus/data/f1.pdf', 'page': 2}, page_content='PART II          3 : 3Chapter 3. Windows\\nA Preservation Handbook for Historic Residential Properties & Districts\\nComposite Window\\nCharacteristic of: \\n• Classical Revival(simpler than \\nabove)\\n• Bungalow\\n• All Victorian styles\\n• Dutch Colonial Revival\\n• Four Square\\nDiamond Pattern Window\\nCharacteristic of:\\n• Tudor Revival\\n• Dutch Colonial Revival\\nGeometric Window\\nCharacteristic of: \\n• Queen Anne\\n• Italianate\\n• Second Empire\\n• Art Moderne\\nDouble-hung Window\\nCharacteristic of:\\nAll styles except Art Moderne or \\nInternational Style.Historic Buildings - Typical Window Types and Styles\\nCraftsman Window\\nCharacteristic of:\\n• Bungalow\\n• Prairie Style\\n• Foursquare\\nCasement Window\\nCharacteristic of:\\n• Tudor Revival\\n• Prairie Style\\n• International Style (with steel \\nmuntins)\\n• Arts & Crafts\\n• Ranch\\n'),\n",
       " Document(metadata={'source': '/Users/vipulmunot/Documents/intus/data/f1.pdf', 'page': 3}, page_content='PART II   Design Guidelines\\nSalt Lake City \\n3 : 4   PART IIOften the appearance of peeling paint creates a \\nvisual impression of deterioration, when in most \\ncases the wood frame may be structurally sound and \\nstable, and may warrant only remedial maintenance \\nor perhaps minor repair.\\nWater damage and the degradation caused by \\nsunlight are concerns. If surfaces fail to drain \\nproperly, water may collect and eventually seep \\nthrough. Condensation during winter months \\ncan also cause problems over time. Deterioration \\nwill gradually occur when the paint surface or \\nthe putty is cracked, peeling or loose. Decay may \\nmake operation of the window difficult and, if left \\nuntreated, can result in significant deterioration \\nof window components. In most cases, historic \\nwindows are not susceptible to damage if a good \\ncoat of paint is maintained and the putty is sound.\\nSteel frames are vulnerable to the same processes, \\nalthough they react differently. Moisture \\npenetration to the frame will cause rust which will \\ngradually expand and distort the surface of the \\nframe section. The rusting of steel frames tends \\nto be slow and in most cases the corrosion will be \\nrelatively superficial, with the original frame still \\nstructurally sound. \\nRepair of Historic Windows\\nWhenever possible, repair a historic window, rather \\nthan replace it. In most cases it is in fact easier, and \\nmore economical, to repair an existing window \\nrather than to replace it. In addition the original \\nmaterials contribute to the historic character of the \\nbuilding. The materials and craftsmanship tend to \\nbe of very high quality, and even when replaced \\nwith an exact duplicate window, which is difficult \\nto achieve, a portion of the historic building fabric \\nis lost and therefore such treatment should be \\navoided. When considering whether to repair or \\nreplace a historic window, evaluate the following:Ornamental windows, such as these \\nintricate stained glass designs, are \\ncharacter-defining features which \\ncontribute significantly to the \\nhistoric and architectural integrity of \\nthe building.\\nSafety concerns relating to handling lead-based paint should \\nbe borne in mind when working with paintwork dating from \\nbefore 1978. There are a series of recommendations and/or \\nrequirements for lead-safe working which should be reviewed \\nprior to any work.  Lead-based paint should not be considered \\na reason to remove and replace historic, character-defining \\nmaterials or features, including windows, doors details and \\ntrim. There are remedial techniques which can be used to \\neither safely remove or encapsulate any lead-based paint. \\nSee the accompanying links for further information.\\nhttp://blog.preservationnation.org/2010/07/20/new-rule-shines-\\nspotlight-on-lead-paint/#.UbYa8p3nYXw\\nhttp://www.nps.gov/tps/how-to-preserve/briefs/37-lead-paint-\\nhazards.htm\\n'),\n",
       " Document(metadata={'source': '/Users/vipulmunot/Documents/intus/data/f1.pdf', 'page': 4}, page_content='PART II          3 : 5Chapter 3. Windows\\nA Preservation Handbook for Historic Residential Properties & Districts\\nFirst, determine the window’s architectural \\nsignificance. Is it a key character-defining element \\nof the building? Typically, windows on the front \\nof the building, and on sides designed to be visible \\nfrom the street, are key character-defining elements. \\nA window in an obscure location, or on the rear \\nof a structure, may not be. Greater flexibility in \\nthe treatment or replacement of such secondary \\nwindows may be appropriate.\\nSecond, inspect the window to determine \\nits condition. Distinguish superficial signs of \\ndeterioration from the actual failure of window \\ncomponents. Peeling paint and dried wood, for \\nexample, may be more superficial than serious \\nproblems, and often do not indicate that a window \\nis beyond repair. What constitutes a deteriorated \\nwindow? A rotted sill may require its replacement, \\nbut it does not indicate the need for an entire new \\nwindow. Determining window condition should \\noccur on a case-by-case basis. However, as a general \\nrule, a window merits preservation, with perhaps \\nselective replacement of components. If more than \\n50 percent of the window components can not be \\nrepaired, then consider replacement. \\nThird, determine the appropriate treatment for the \\nwindow. Where the window is inoperable, remove \\nexcess paint and free or replace any mechanism \\ncomponents that don’t work. Surfaces may require \\ncleaning and patching. Some components may \\nhave deteriorated beyond repair. Patching and \\nsplicing in new material for only those portions \\nthat are decayed should be considered in such a \\ncase, rather than replacing the entire window. If \\nthe entire window must be replaced, the new one \\nshould match the original in appearance. (See \\n“Replacement Windows” in following section.)\\nDouble-hung sash window componentsMuntin\\nStile\\nStops\\nJamb\\nCasing\\nRailWall\\nGlazing\\nSash\\nSillHead\\nCasement window componentsMuntinStile\\nJamb\\nRailGlazingHead'),\n",
       " Document(metadata={'source': '/Users/vipulmunot/Documents/intus/data/f1.pdf', 'page': 5}, page_content='PART II   Design Guidelines\\nSalt Lake City \\n3 : 6   PART II3.1 The functional and decorative features of a \\nhistoric window should be preserved.\\n• Features important to the character of a \\nwindow include its frame, sash, muntins, \\nmullions, glazing, sills, heads, jambs, moldings, \\noperation, and the groupings of windows.\\n• Frames and sashes should be repaired rather \\nthan replaced whenever conditions permit.\\n3.2 The position, number, and arrangement of \\nhistoric windows in a building wall should be \\npreserved.\\n• Enclosing a historic window opening in \\na key character-defining facade would be \\ninappropriate, as would adding a new window \\nopening. \\n• This is especially important on primary \\nfacades, where the historic ratio of solid-to-\\nvoid is a character-defining feature. Greater \\nflexibility in installing new windows may be \\nappropriate on rear walls or areas not visible \\nfrom the public way.\\nEnergy Conservation\\nIn some cases, owners may be concerned that an \\nolder window is less efficient in terms of energy \\nconservation. In winter, for example, heat loss \\nassociated with an older window may make a room \\nuncomfortable and increase heating costs. In fact, \\nmost heat loss is associated with air leakage through \\ngaps around the frame sections of an older window, \\nand  is often the result of insufficient maintenance \\nover time. Loss of energy through the single pane \\nof glass found in historic windows is a very small \\nproportion of the total. Glazing compound may be \\ncracked or missing, allowing air to move around the \\nglass. Sash members also may have shifted, leaving \\na gap for heat loss.Historic window frames are well constructed and made from \\ntough and durable wood. With minimum maintenance they will \\nlast as long as the building, Maintaining the glazing compound \\nand sound paintwork, with minimal maintenance of opening \\nmechanism and sliding surfaces, is usually all that is required. \\nWhen weather-stripped, and with the addition of a storm \\nwindow, they will match the energy efficiency of replacements \\nand out-perform them in acoustic insulation. They are also \\nmaintainable, rather than having to be completely replaced \\nwhen a component fails.\\nwww.nps.gov/tps/sustainability/research.htm\\n'),\n",
       " Document(metadata={'source': '/Users/vipulmunot/Documents/intus/data/f1.pdf', 'page': 6}, page_content='PART II          3 : 7Chapter 3. Windows\\nA Preservation Handbook for Historic Residential Properties & Districts\\nThe most cost-effective energy conservation \\nmeasures for most historic windows are to replace \\nglazing compound, repair the wood members if \\nnecessary (usually the frame will be structurally \\nsound) and install weather stripping. These steps \\nwill dramatically reduce heat loss, while preserving \\nthe character-defining historic features of the \\nwindow. They will also improve acoustic efficiency.\\nSteel frames can be upgraded through attention to \\nand removal of paint or rust accumulation, followed \\nby weatherization. Paint and rust become common \\nissues that result from deferred maintenance and \\nthat can inhibit the effective opening and operation \\nof the window. Remedial work will restore the \\nprofiles of the opening and fixed sections of the \\nframe and the precise fit of the original frame. The \\nwindow can then be weatherstripped to enhance \\nenergy and acoustic efficiency.\\nWhere additional energy or acoustic efficiency \\nmight be a concern, consider installing a storm \\nwindow. It may be applied to the interior or the \\nexterior of the window. A storm window should be \\ndesigned to match the historic window divisions \\nsuch that the exterior appearance of the original \\nwindow is not obscured. \\nResearch in recent years confirms that a weatherized \\nhistoric window with an additional storm window \\n(internal or external) will match or exceed the \\nenergy efficiency of a replacement window, at \\na small proportion of the cost. Acoustically, the \\noriginal with a storm window will tend to be more \\nefficient than a replacement window, as a result of \\nthe wider air gap between the two planes of glass. \\nRefer to the Additional Information section at \\nthe end of this chapter, or the Appendix, for more \\ninformation.Maintenance tips for Windows\\n• Maintain a good coat of paint on all exposed surfaces.\\n• Replace old glazing compound.\\n• Install new weather-stripping to reduce air leaks.When a window is to be replaced, the new one \\nshould match the appearance of the original to \\nthe greatest extent possible.\\nExternal wood-framed storm windows designed \\nto fit the primary framework of the original.'),\n",
       " Document(metadata={'source': '/Users/vipulmunot/Documents/intus/data/f1.pdf', 'page': 7}, page_content='PART II   Design Guidelines\\nSalt Lake City \\n3 : 8   PART II3.3 To enhance energy efficiency, a storm window \\nshould be used to supplement rather than replace \\na historic window. \\n• Install a storm window on the interior where \\nfeasible. This will allow the character of the \\noriginal window to be seen from the public \\nway. \\n• If a storm window is to be installed on the \\nexterior, match the sash design of the original \\nwindows. \\n• A metal storm window may be appropriate. \\n• The storm window should fit tightly within \\nthe window opening without the need for sub \\nframes around the perimeter. \\n• Match the color of the storm window sash with \\nthe color of the window frame; avoid a milled \\n(a silver metallic) aluminum finish if possible.\\n• Finally, set the sash of the storm window back \\nfrom the plane of the wall surface as far as \\npossible. \\nReplacement Windows \\nWhile replacing an entire window assembly is \\ndiscouraged, it may be necessary in some cases. \\nWhen a window is to be replaced, the new one \\nshould match the appearance of the original to \\nthe greatest extent possible. To do so, the size and \\nproportion of window elements, including glass \\nand sash components, should match the original. In \\nmost cases, the original profile, or outline of the sash \\ncomponents, should be the same as the original. At \\na minimum, the replacement components should \\nmatch the original in dimension and profile and \\nthe original depth of the window opening (reveal)\\nshould be maintained.The curved sash glass and frame in these \\nwindows are distinctive features that \\nshould be preserved.\\nYes         No\\nPreserve the historic ratio of window \\nopenings to solid wall on a primary facade.\\n No          Historic\\nA replacement window should match the \\noriginal in its design. The new window (on \\nthe left) is smaller than the historic opening \\nand would be inappropriate.\\n'),\n",
       " Document(metadata={'source': '/Users/vipulmunot/Documents/intus/data/f1.pdf', 'page': 8}, page_content='PART II          3 : 9Chapter 3. Windows\\nA Preservation Handbook for Historic Residential Properties & Districts\\nA frequent concern is the material of the \\nreplacement window. While wood was most often \\nused historically, metal and vinyl clad windows \\nare common on the market today and sometimes \\nare suggested as replacement options by window \\nsuppliers. In general, using the same material as \\nthe original is preferred. If the historic window was \\nwood, then using a wood replacement is the best \\napproach.\\nHowever, it is possible to consider alternative \\nmaterials in some special cases, if the resulting \\nappearance will match that of the original, in terms \\nof the finish of the material, its proportions and the \\nprofiles of the sash members. For example, if a metal \\nwindow is to be used as a substitute for a wood \\none, the sash components should be similar in size \\nand design to those of the original. The substitute \\nmaterial also should have a demonstrated durability \\nin similar applications in this climate.\\nFinally, when replacing a historic window, it is \\nimportant to preserve the original frame casing \\nwhenever feasible. This trim element often \\nconveys distinctive stylistic features associated \\nwith the historic building style and may be costly \\nto reproduce. Many good window manufacturers \\ntoday provide replacement windows that will fit \\nexactly within historic window casings.\\n3.4 The historic ratio of window openings to solid \\nwall on a primary facade should be preserved. \\n• Significantly increasing the amount of glass \\non a character-defining facade will negatively \\naffect the integrity of the structure. \\nWhen replacing a historic window, \\nmatch the profile of the sash and its \\ncomponents, as closely as possible to that \\nof the original window.\\nUnacceptable replacement profile\\nAppropriate replacement profile'),\n",
       " Document(metadata={'source': '/Users/vipulmunot/Documents/intus/data/f1.pdf', 'page': 9}, page_content='PART II   Design Guidelines\\nSalt Lake City \\n3 : 10    PART II3.5 The size and proportion of a historic window \\nopening should be retained. \\n• An original opening should not be reduced to \\naccommodate a smaller window, nor increased \\nto receive a larger window, since either is likely \\nto disrupt the design composition.\\n3.6 A replacement window should match the \\noriginal in its design. \\n• If the original is double-hung, then the \\nreplacement window should also be double-\\nhung, or at a minimum appear to be so. \\n• Match the replacement also in the number and \\nposition of glass panes. \\n• Matching the original design is particularly \\nimportant on key character-defining facades.\\n3.7 Match the profile of the sash and its \\ncomponents, as closely as possible to that of the \\noriginal window. \\n• A historic wood window has a complex \\nprofile within its casing. The sash steps back \\nto the plane of the glazing (glass) in several \\nincrements (see illustrations of frame sections \\non page 3:9).\\n• These increments, which individually are \\nmeasured in fractions of an inch, are important \\ndetails.\\n• They distinguish the actual window from the \\nsurrounding plane of the wall.\\n• The profiles of wood windows allow a double-\\nhung window, for example, to bring a rich \\ntexture to the simplest structure.\\n• These profiles provide accentuated shadow \\ndetails and depth to the facades of the building.\\nFraming sections, profiles and \\nmaterials define the type of window and \\nadd considerable detail to the facade.\\n'),\n",
       " Document(metadata={'source': '/Users/vipulmunot/Documents/intus/data/f1.pdf', 'page': 10}, page_content='PART II          3 : 11Chapter 3. Windows\\nA Preservation Handbook for Historic Residential Properties & Districts\\n• In general, it is best to replace wood windows \\nwith wood on contributing structures, \\nespecially on the primary facades.\\n• Non-wood materials, such as vinyl or \\naluminum, will be reviewed on a case-by-case \\nbasis. The following will be considered: \\n• Will the original casing be preserved? \\n• Will the glazing be substantially \\ndiminished? \\n• What finish is proposed? \\n• Most importantly, what is the profile of the \\nproposed replacement window?\\n3.8 In a replacement window, use materials that \\nappear similar to the original.\\n• Using the same material as the original is \\npreferred, especially on key character-defining \\nfacades.\\n• A substitute material may be appropriate in \\nsecondary locations if the appearance of the \\nwindow components will match those of the \\noriginal in dimension, profile and finish.\\n• Installing a non-wood replacement window \\nusually removes the ability to coordinate the \\nwindows with an overall color scheme for the \\nhouse.Historic Glass\\nHistoric glass is not a matter considered in design \\nreview in Salt Lake City. An understanding of its \\nrole and origins however helps to inform decisions \\non maintenance, repair and alterations. Whether as \\na decorative feature window, or in the irregularities \\nand reflective qualities of plain historic glass, \\nit contributes significantly to the character of a \\nbuilding.\\nGlass is sometimes overlooked as a key building \\nmaterial, although it may comprise a significant \\nproportion of the facades of a building, as the \\nprimary surface in the pattern and detail of \\nwindows and doors (fenestration). Decorative glass \\nis widely used in older neighborhoods as a form of \\nartwork embellishing and celebrating the building. \\nSymbolism, pattern, color and texture are employed \\nto great creative effect in windows and doors. The \\ntraditional skills used to create leaded and stained \\nglass windows are many centuries old. Curved, \\nconvex glass is often used where a sash window is \\ndesigned to reflect a curved corner or bay.\\nThe reflective ripple \\ncharacteristics of early glass \\ncan be appeciated when \\ncompared to the regular \\nsurface of more recent \\nreplacement glass.\\n'),\n",
       " Document(metadata={'source': '/Users/vipulmunot/Documents/intus/data/f1.pdf', 'page': 11}, page_content='PART II   Design Guidelines\\nSalt Lake City \\n3 : 12    PART IIAdditional Information\\nMaintenance, Repair, Weatherization & Energy Efficiency\\n“How to Restore Sash Windows”, “Window Repair Tips”, & \\n“Glass Replacement” Old House Journal\\nwww.oldhouseonline.com/how-to-restore-sash-windows/\\nwww.oldhouseonline.com/window-repair-tips-from-john-leeke/\\nwww.oldhousejournal.com/magazine/1506\\nNational Park Service. Technical Preservation Services.\\nhttp://www.nps.gov/tps/sustainability/energy-efficiency/\\nweatherization/windows-doors.htm\\nwww.nps.gov/tps/sustainability/research.htm\\nwww.nps.gov/tps/sustainability/resources.htm\\nNational Trust for Historic Preservation. Weatherization\\nhttp://www.preservationnation.org/information-center/\\nsustainable-communities/buildings/weatherization/windows/#.\\nUbYdQp3nYXw\\nHistoric Scotland. Managing Change in the Historic \\nEnvironment - Windows . 2010\\nwww.historic-scotland.gov.uk/index/heritage/policy/\\nmanagingchange.htm\\nEnglish Heritage. Thermal Performance of Traditional \\nWindows . 2009\\nwww.english-heritage.org.uk/professional/research/buildings/\\nenergy-efficiency/thermal-performance-of-traditional-windows/\\nNorthen Ireland Environment Agency. Windows. A Guidance \\nBooklet on Openings.  Technical Note 4A. 2010\\nhttp://www.doeni.gov.uk/niea/windows_a_guidance_booklet_\\non_openings_tn_4a.pdf\\nDepartment of Arts, Heritage and the Gaeltacht. Ireland. \\nWindows. A Guide to the Repair of Historic Windows . 2007\\nwww.ahg.gov.ie/en/Publications/HeritagePublications/\\nBuiltHeritagePolicyPublications/Windows%20-%20A%20\\nGuide%20to%20the%20Repair%20of%20Historic%20\\nWindows%20(2007).pdf\\nMyers, John H. Preservation Briefs 9: The Repair of Historic \\nWooden Windows . Washington, DC: Technical Preservation \\nServices Division, National Park Service, US Department of \\nthe Interior. 1981\\nhttp://www.nps.gov/tps/how-to-preserve/briefs/9-wooden-\\nwindows.htm\\nPark, Sharon C., AIA, Preservation Briefs 13: The Repair and \\nThermal Upgrading of Historic Steel Windows . Preservation \\nTechnical Notes. Washington, DC: Technical Preservation \\nServices, National Park Service, US Department of the \\nInterior. 1984\\nhttp://www.nps.gov/tps/how-to-preserve/briefs/13-steel-\\nwindows.htm\\nPark, Sharon C., AIA, and Douglas C. Hicks. Preservation \\nBriefs 37: Appropriate Methods of Reducing Lead-Paint \\nHazards in Historic Housing . Washington, DC: Technical \\nPreservation Services Division, National Park Service, US \\nDepartment of the Interior. 2006\\nhttp://www.nps.gov/tps/how-to-preserve/briefs/37-lead-paint-\\nhazards.htmPlain window glass, as well, until the middle of \\nthe 20th century contributed its own dimension \\nin shaping light and reflection through the almost \\n‘organic’ figuring or ream in the glass. These \\ncharacteristics derive from earlier manufacturing \\nprocesses which were much more reliant on \\nindividual craft skills, ensuring that each sheet of \\nglass has unique visual qualities. The result is a \\nmedium which contributes its own character to \\ninternal and external views and reflections. The \\nsparkle and characteristics associated with historic \\nglass directly affect the perception of windows as \\nthe “eyes of a building.”\\nTo preserve these unique characteristics retain \\nearly glass wherever possible in the maintenance, \\nrehabilitation and repair of a historic building. \\nOnce lost, early glass can not be replaced. If broken, \\nreclaimed  historic glass can sometimes be found to \\nmatch the original. Reproduction glass, with historic \\nglass characteristics can be found, but at some cost. \\nRetain and reuse original glass when carrying out \\nrepairs. Where energy and acoustic performance \\nmay be a concern, consider using an internal or \\nexternal storm window, to retain the original glass \\nand its individual qualities. See the Additional \\nInformation section for further reference material.\\n'),\n",
       " Document(metadata={'source': '/Users/vipulmunot/Documents/intus/data/f1.pdf', 'page': 12}, page_content='PART II          3 : 13Chapter 3. Windows\\nA Preservation Handbook for Historic Residential Properties & Districts\\nRandl, Chad. Windows 19: Repairing Steel Casement \\nWindows . Preservation Technical Notes. Washington, DC: \\nTechnical Preservation Services, National Park Service, US \\nDepartment of the Interior. 2002\\nwww.nps.gov/tps/how-to-preserve/tech-notes/Tech-Notes-\\nWindows19.pdf\\nStaveteig, Kaaren R. Windows 22: Maintenance and Repair of  \\nHistoric Aluminum Windows . Preservation Technical Notes. \\nWashington, DC: Technical Preservation Services, National \\nPark Service, US Department of the Interior. 2008\\nwww.nps.gov/tps/how-to-preserve/tech-notes/Tech-Notes-\\nWindows22.pdf\\nVogel, Neal A. and Rolf Achilles. Preservation Briefs 33: The \\nPreservation and Repair of Historic Stained and Leaded Glass . \\nWashington, DC: Technical Preservation Services Division, \\nNational Park Service, US Department of the Interior. 2007\\nhttp://www.nps.gov/tps/how-to-preserve/briefs/33-stained-\\nleaded-glass.htm\\nNew York Landmarks Conservancy. Repairing Old and \\nHistoric Windows: A Manual for Architects and Homeowners . \\nWashington, DC:  National Trust for Historic Preservation, \\n1992\\nhttp://www.barnesandnoble.com/w/repairing-old-and-historic-\\nwindows-new-york-landmarks-conservancy/1112114773?e\\nan=9780471144182\\nFisher, Charles E. Windows 2: Installing Insulating Glass \\nin Existing Steel Window . Preservation Technical Notes. \\nWashington, DC: Technical Preservation Services, National \\nPark Service, US Department of the Interior. 1984.\\nwww.nps.gov/tps/how-to-preserve/tech-notes/Tech-Notes-\\nWindows02.pdf\\nFisher, Charles E. Windows 11: Installing Insulating Glass \\nIn Existing Wooden Sash Incorporating the Historic Glass . \\nPreservation Technical Notes. Washington, DC: Technical \\nPreservation Services, National Park Service, US Department \\nof the Interior. 1984.\\nwww.nps.gov/tps/how-to-preserve/tech-notes/Tech-Notes-\\nWindows11.pdf\\nStorm Windows\\nTrissler, W. & Fisher, C.E. Windows 3: External Storm \\nWindows: Casement Design Wooden Storm Sash . \\nPreservation Technical Notes. Washington, DC: Technical \\nPreservation Services, National Park Service, US Department \\nof the Interior. 1984\\nhttp://www.nps.gov/tps/how-to-preserve/tech-notes/Tech-\\nNotes-Windows03.pdf\\nFisher, Charles E. & Muckenfuss, Laura A. Windows 5: \\nInterior Metal Storm Windows . Preservation Technical Notes. \\nWashington, DC: Technical Preservation Services, National \\nPark Service, US Department of the Interior. 1984\\nwww.nps.gov/tps/how-to-preserve/tech-notes/Tech-Notes-\\nWindows05.pdfPark, Sharon C. Windows 8: Thermal Retrofit of Historic \\nWooden Sash Using Interior Piggyback Storm Panels . \\nPreservation Technical Notes. Washington, DC: Technical \\nPreservation Services, National Park Service, US Department \\nof the Interior. 1984\\nwww.nps.gov/tps/how-to-preserve/tech-notes/Tech-Notes-\\nWindows08.pdf\\nFisher, Charles E. Windows 9: Interior Storm Windows: \\nMagnetic Seal . Preservation Technical Notes. Washington, \\nDC: Technical Preservation Services, National Park Service, \\nUS Department of the Interior. 1984\\nwww.nps.gov/tps/how-to-preserve/tech-notes/Tech-Notes-\\nWindows09.pdf\\nFisher, Charles E. Windows 15: Interior Storms for Steel \\nCasement Windows . Preservation Technical Notes. \\nWashington, DC: Technical Preservation Services, National \\nPark Service, US Department of the Interior. 1986\\nwww.nps.gov/tps/how-to-preserve/tech-notes/Tech-Notes-\\nWindows15.pdf\\nReplacement Windows\\nReplacement Windows That Meet the Standards . Preservation \\nTechnical Notes. Washington, DC: Technical Preservation \\nServices, National Park Service, US Department of the \\nInterior\\nwww.nps.gov/tps/standards/applying-rehabilitation/successful-\\nrehab/windows-replacement.htm\\n'),\n",
       " Document(metadata={'source': '/Users/vipulmunot/Documents/intus/data/f1.pdf', 'page': 13}, page_content='Page left intentionally blank'),\n",
       " Document(metadata={'source': '/Users/vipulmunot/Documents/intus/data/f2.pdf', 'page': 0}, page_content=' 1 NOTES BY VIKASH KUMAR SINGH  \\nSUBJECT: CONSTRUCTION TECHNOLOGY  \\nCODE: CE402  \\nUNIT III : TYPES OF WINDOWS  \\n \\nDEPARTMENT OF CIVIL ENGINEERING  \\nLAKSHMI NARAIN COLLEGE OF TECHNOLOGY  \\nBHOPAL - 462021 (INDIA)  \\nI. Types  of Windows used in Buildings  \\nThere are different types of windows used in building construction to provide \\nventilation, and view. The selection of windows depends on many criteria.  \\nA window is a vented barrier provided in a wall ope ning to admit light and air into \\nthe structure and also to give outside view. Windows also increases the beauty \\nappearance of building.  \\nII. Selection Criteria for Windows  \\nSelection of suitable window in a particular place should be dependent of \\nfollowing factors.  \\n\\uf0b7 Location of room  \\n\\uf0b7 Size of room  \\n\\uf0b7 Direction of wind  \\n\\uf0b7 Climatic conditions  \\n\\uf0b7 Utility of room  \\n\\uf0b7 Architectural point of view  \\nBased on the above factors we can select the suitable window for our strictures.  \\n'),\n",
       " Document(metadata={'source': '/Users/vipulmunot/Documents/intus/data/f2.pdf', 'page': 1}, page_content=' 2 III. Types of Windows used in Buildings  \\nThere are so m any types of windows are avai lable based on their positions, \\nmaterials and functioning. Windows are classified as follows.  \\n1. Fixed windows  \\n2. Sliding windows  \\n3. Pivoted windows  \\n4. Double hung windows  \\n5. Louvered windows  \\n6. Casement windows  \\n7. Metal windows  \\n8. Sash windows  \\n9. Corner  windows  \\n10. Bay windows  \\n11. Dormer windows  \\n12. Clerestory windows  \\n13. Lantern windows  \\n14. Gable windows  \\n15. Ventilators  \\n16. Skylights  \\n \\n \\n \\n '),\n",
       " Document(metadata={'source': '/Users/vipulmunot/Documents/intus/data/f2.pdf', 'page': 2}, page_content=' 3 1. Fixed Windows  \\nFixed windows are fixed to the wall without any closing or opening operation. In \\ngeneral, they are provided to transmit the light into the room. Fully glazed shutters \\nare fixed to the window frame. The shutters provided are generally weather proof.  \\n \\n2. Sliding Windows  \\nIn this case, window shutters are movable in the frame. The movement may be \\nhorizontal or vertical based on our requirement. The movement of shutters is done \\nby the provision of roller bearings. Generally, this type of window is provided in \\nbuses, bank counters, shops etc..  \\n \\n'),\n",
       " Document(metadata={'source': '/Users/vipulmunot/Documents/intus/data/f2.pdf', 'page': 3}, page_content=' 4 3. Pivoted Windows  \\nIn this type of windows, pivots are provided to window frames. Pivot  is a shaft \\nwhich helps to oscillate the shutter. No rebates are required for the frame. The \\nswinging may either horizontal or vertical based on the position of pivots.  \\n \\n4. Double Hung Windows  \\nDouble hung windows consist of pair of shutters attached to one frame. The \\nshutters are arranged one above the other. These two shutters can slide vertically \\nwith in the frame. So, we can open the windows on top or at bottom to our required \\nlevel.  \\nTo operate the double hung windows, a chain or cord consisting metal  weights is \\nmetal provided which is connected over pulleys. So, by pulling the weights of cord \\nthe shutters can move vertically. Then we can fix the windows at our required \\nposition of ventilation or light etc..  \\n'),\n",
       " Document(metadata={'source': '/Users/vipulmunot/Documents/intus/data/f2.pdf', 'page': 4}, page_content=' 5  \\n5. Louvered Windows  \\nLouvered windows are s imilar to louvered doors which are provided for the \\nventilation without any outside vision. The louvers may be made of wood, glass or \\nmetal. Louvers can also be folded by provision of cord over pulleys. We can \\nmaintain the slope of louvers by tilting cord and lifting cord.  \\nRecommended angle of inclination of louvers is about 45o. The sloping of louvers \\nis downward to the outside to run -off the rain water. Generally, they are provided \\nfor bathrooms, toilets and privacy places etc..  \\n \\n'),\n",
       " Document(metadata={'source': '/Users/vipulmunot/Documents/intus/data/f2.pdf', 'page': 5}, page_content=' 6 6. Casement Windows  \\nCase ment windows are the widely used and common windows nowadays. The \\nshutters are attached to frame and these can be opened and closed like door \\nshutters. Rebates are provided to the frame to receive the shutters. The panels of \\nshutters may be single or multi ple. Sometimes wired mesh is provided to stop \\nentering of fly’s.  \\n \\n7. Metal Windows  \\nMetal windows, generally mild steel is used for making metal windows. These are \\nvery cheap and have more strength. So, now days these are widely using especially \\nfor public  buildings, private building etc.  \\nSome other metals like aluminum, bronze, stainless steel etc. also used to make \\nwindows. But they are costly compared to mild steel windows. For normal \\ncasement windows also, metal shutters are provided to give strong supp ort to the \\npanels.  \\n'),\n",
       " Document(metadata={'source': '/Users/vipulmunot/Documents/intus/data/f2.pdf', 'page': 6}, page_content=' 7  \\n \\n8. Sash Windows  \\nSash window is type of casement window, but in this case panels are fully glazed. \\nIt consists top, bottom and intermediate rails. The space between the rails is \\ndivided into small panels by mean of small timber members  called sash bars or \\nglazing bars.  \\n \\n'),\n",
       " Document(metadata={'source': '/Users/vipulmunot/Documents/intus/data/f2.pdf', 'page': 7}, page_content=' 8 9. Corner Windows  \\nAs in the name itself corner windows are provided at the corners of room. That \\nmeans corner windows has two faces in perpendicular directions. By providing this \\ntype of windows, light or air can be ent ered into room in two different directions.  \\nTo provide this type of window special lintel is provided in the wall. Corner \\nwindows will give aesthetic appearance to the building.  \\n \\n \\n10. Bay Windows  \\nBay windows are projected windows form wall which are provi ded to increase the \\narea of opening, which enables more ventilation and light form outside. The \\nprojection of bay windows are of different shapes. It may be triangular or \\nrectangular or polygonal etc. They give beautiful appearance to the structure.  \\n'),\n",
       " Document(metadata={'source': '/Users/vipulmunot/Documents/intus/data/f2.pdf', 'page': 8}, page_content=' 9  \\n11. Dormer Windows  \\nDormer windows are provided for sloped roofs. These are projected from the \\nsloping surface as shown in below image. They provide ventilation as well as \\nlighting to the room. They also enhance aesthetic sense of room.  \\n \\n'),\n",
       " Document(metadata={'source': '/Users/vipulmunot/Documents/intus/data/f2.pdf', 'page': 9}, page_content=' 10 12. Clerestory Windows  \\nIf the rooms in a building are of different ceiling heights, clerestory windows are \\nprovided for the room which has greater ceiling height than the other rooms. The \\nshutters able to swing with the help of cord over pulleys. These also enhances the \\nbeauty of building.  \\n \\n13. Lantern Windows  \\nLantern windows are provided for over the flat roofs. The main purpose of this \\nwindow is to provide the more light and air circulation to the interior rooms. \\nGenerally, they are projected from the roof surface so, we can close the roof \\nsurface when we required.  \\n'),\n",
       " Document(metadata={'source': '/Users/vipulmunot/Documents/intus/data/f2.pdf', 'page': 10}, page_content=' 11  \\n \\n14. Gable Windows  \\nGable windows are provided for sloped roof buildings. These windows are \\nprovided at the gable end of sloped roof so; they are called as gable windows. They \\nalso improve the appearance of building.  \\n \\n'),\n",
       " Document(metadata={'source': '/Users/vipulmunot/Documents/intus/data/f2.pdf', 'page': 11}, page_content=' 12 15. Ventilators  \\nVentilators are provided for the purpose of ventilation in the room. They are \\nprovided at greater height than windows nearer to roof level. It is in very small \\nsize. Horizontally pivoted shutters are provided for ventilators. So metimes shutter \\nis replaced by wired mesh, in this case sunshade is provided to prevent against rain \\nwater.  \\n \\n16. Skylights  \\nSkylights or generally provide d on the top of sloped roofs. To admit light into the \\nrooms, sky lights are provided. It is provided parallel to the sloping surface. Sky \\nlights can be opened when we required. Lead gutters are arranged to frame to make \\nit as waterproof.  \\n'),\n",
       " Document(metadata={'source': '/Users/vipulmunot/Documents/intus/data/f2.pdf', 'page': 12}, page_content=' 13  \\n \\n')]"
      ]
     },
     "execution_count": 45,
     "metadata": {},
     "output_type": "execute_result"
    }
   ],
   "source": [
    "all_pages"
   ]
  },
  {
   "cell_type": "code",
   "execution_count": 46,
   "id": "686b60ba-6604-4fae-a15d-c10159a3a317",
   "metadata": {},
   "outputs": [],
   "source": [
    "from langchain.text_splitter import RecursiveCharacterTextSplitter"
   ]
  },
  {
   "cell_type": "code",
   "execution_count": 49,
   "id": "aed9d5a9-41ba-46c6-b13c-88e2a514d730",
   "metadata": {},
   "outputs": [],
   "source": [
    "raw_text = ''\n",
    "for i, doc in enumerate(all_pages):\n",
    "    text = doc.page_content\n",
    "    if text:\n",
    "        raw_text += text"
   ]
  },
  {
   "cell_type": "code",
   "execution_count": 47,
   "id": "9cfa43d8-837d-4fd3-8216-6c71f2ee09dd",
   "metadata": {},
   "outputs": [],
   "source": [
    "text_splitter = RecursiveCharacterTextSplitter(\n",
    "    chunk_size = 500,\n",
    "    chunk_overlap = 100,\n",
    ")"
   ]
  },
  {
   "cell_type": "code",
   "execution_count": 54,
   "id": "605327c3-3dc8-4d54-94aa-241605fe3874",
   "metadata": {},
   "outputs": [],
   "source": [
    "texts = text_splitter.split_text(raw_text)"
   ]
  },
  {
   "cell_type": "code",
   "execution_count": 55,
   "id": "afd76535-b089-4a5a-9c89-7f489b799874",
   "metadata": {},
   "outputs": [
    {
     "data": {
      "text/plain": [
       "332"
      ]
     },
     "execution_count": 55,
     "metadata": {},
     "output_type": "execute_result"
    }
   ],
   "source": [
    "len(text)"
   ]
  },
  {
   "cell_type": "code",
   "execution_count": 57,
   "id": "562baf1c-3027-4a51-9711-ccc1da9bab57",
   "metadata": {},
   "outputs": [
    {
     "data": {
      "text/plain": [
       "'PART II          3 : 1\\nA Preservation Handbook for Historic Residential Properties & DistrictsContext & Character\\nWindows are character-defining features of most \\nhistoric structures. They give scale to buildings \\nand are an essential element in the architectural'"
      ]
     },
     "execution_count": 57,
     "metadata": {},
     "output_type": "execute_result"
    }
   ],
   "source": [
    "texts[0]"
   ]
  },
  {
   "cell_type": "code",
   "execution_count": 59,
   "id": "88fd558b-4fe3-4a8c-b781-c0c2cb4eab77",
   "metadata": {},
   "outputs": [],
   "source": [
    "from langchain_core.documents import Document"
   ]
  },
  {
   "cell_type": "code",
   "execution_count": 65,
   "id": "6cca6994-fbd4-4469-9b2d-1c185cbda649",
   "metadata": {},
   "outputs": [],
   "source": [
    "docs = []\n",
    "for i in range(len(texts)):\n",
    "    doc = Document(page_content=texts[i])\n",
    "    docs.append(doc)"
   ]
  },
  {
   "cell_type": "code",
   "execution_count": 67,
   "id": "42269847-b904-4ba1-8880-6d17c472a604",
   "metadata": {},
   "outputs": [
    {
     "data": {
      "text/plain": [
       "['ec778050cb004c6aae69f0e13e0cb6bc',\n",
       " 'b513e0cc59a74964a930be9b162b45c8',\n",
       " '0212d5de3a3447368ddcca0d6328e5f1',\n",
       " '1fac913abe184ec1af6875ded67088bd',\n",
       " '184d5fec39b446f88af193479bd2e9c4',\n",
       " '00178479124d4ac78b311f20fb2f0ae1',\n",
       " 'b758547a873148a2a90e1410942b2223',\n",
       " '6cc07f2f37dc4fb4a501be0f12499845',\n",
       " 'fe59b1d8da9a435cb151f61c476bad7f',\n",
       " '393c2adf6d544f33836669d16dbb4642',\n",
       " 'cec10b638d334f7bab65af171710726d',\n",
       " '4acd439cfe7a409cbb2e9aeff90e8190',\n",
       " '63a1b291bdd64b8a8c743e593dbf6c00',\n",
       " '332cd652e40847caaf944572c50bbaf8',\n",
       " 'a5cfb53fd2fb466aa342005808b7643e',\n",
       " '961dec3b147048a383f935e387c5e923',\n",
       " 'e7b5fed56f54448da310839fdffb03d3',\n",
       " 'b8d2ba2eb3df49d494f296a67bde976c',\n",
       " '18f431ea79da4f34afd31e54064a7f51',\n",
       " 'e13d4fc928344156a7d640d39316070d',\n",
       " '8efd6f3396d44f3695279eb6a2f94844',\n",
       " 'f603bba72864407d969a29f989caf943',\n",
       " '2279d4f3e4cf4d8e8ccda44095e21928',\n",
       " 'd3132b1cd1dd4a5aa844e6e9d5012a76',\n",
       " '4bc4365ca43e4723ae0a7dec26859559',\n",
       " '119000379fcc405e8a7f6e3e00d95d3d',\n",
       " '09903977ee8241bd837298ecdec4e55d',\n",
       " '1d23d875d7fe40b597f592424d8bc65d',\n",
       " '4707463c64e14f4e99fcdf63f55feebf',\n",
       " '3b4228e53cc9489eac0dcb7f3960733d',\n",
       " '90cce3bf19114587bcb0956be9394567',\n",
       " 'bc42574a80904ba1abfb0901b985d7ce',\n",
       " '7038895842c849a38a0094bfea0d69b7',\n",
       " 'e9cc652af0af45e0b36f08f40b4cfaa5',\n",
       " 'd1e3e8713743448d9a7f8e52da311f08',\n",
       " '119143b249fc4671bbd9c7e779078e2d',\n",
       " 'c8f5368e6731480c8cc19501ace8f80a',\n",
       " '919a2cbb15d541f5be0542fd950cfe9d',\n",
       " '67cc370d587c4f15b2a49b2c736363f2',\n",
       " '95bef96dc7264820bbbd2b1722fc7206',\n",
       " '33a2ab0cc3f644089a7a3c907053fdbc',\n",
       " '52b0ffd9d992466ab4e171215b8fceba',\n",
       " 'a8866d28e3674f95a7ed51aa13fdb52d',\n",
       " 'd7f321cd048741358245718711ebceba',\n",
       " '1b7903d3755243fca68355f7d60a2f8b',\n",
       " '2556b16d284e403599fd4eb312ab3287',\n",
       " '8bf8073d19ce42d589df67ca2cbab3a8',\n",
       " 'edadc0b45f2f4993b773d29ecdf4c5f4',\n",
       " 'fa12feb777d04ebb9065e22ae0ec8a85',\n",
       " '66fca4383a054e79b97ef75f9615e86e',\n",
       " '21d6476619f54071a274050bb1a18075',\n",
       " '021d1695102f4b49a6170a39e119b393',\n",
       " '82a452d14de944f5a5b80145ccdec420',\n",
       " '8ff7eae0170140499acd78fd2578b8fd',\n",
       " '75d5e3e2bcb94fbfbd53b351679744a9',\n",
       " '1e03e226e1304916b81a63372cd4a844',\n",
       " '669e1d42001940079f126933e7ccac02',\n",
       " '5a572cf331364e1d84b1a3d9f3fa7e80',\n",
       " '5992551b27c0488da56d32070b59cead',\n",
       " '3d32316f99cc47569ca329dcfb198de9',\n",
       " '9b795c0d1970459c8388c83252286fa3',\n",
       " 'c32e63ff7d184852b656e50f491420b1',\n",
       " '20c3e0339c594642ae4c48b0b42e99ef',\n",
       " '7dd519c4a3f949d68c7e326f3bf66701',\n",
       " 'a7a0c9fa77584cc98334d2aa9be0e7e8',\n",
       " 'dcdb489f8ee54166a7eadb3b333b41a1',\n",
       " '9bc552144c2e49ee9055efcc8464f9f7',\n",
       " 'adae66d2ba5043a9ad6c54dcc395702e',\n",
       " 'f6b4284f06ee41219d09426f05fc4b6b',\n",
       " '057764e163904575a16977e61c60b885',\n",
       " '6712288a9e22447eb3dcb3851cb506b5',\n",
       " 'b1aa6d1eab0d44f8a56cd71249fb685e',\n",
       " 'd5a1ccc829a749c9b66e5252cef10a58',\n",
       " '9d9d4721a74b427dab709e1a74d85445',\n",
       " 'a88ab18379b742a8802be2fa951c887a',\n",
       " '472c90a2af534bdf99c91f62db97c69d',\n",
       " '735bb1a25fe24a1983bbf0435ec599e4',\n",
       " 'a58634d9d9b74b2c8d0ed2f64a10e95f',\n",
       " 'cf7942f83b53434ab3ef9a5213b5ba40',\n",
       " '6890a3c074274ef1abfcfbb4760400e9',\n",
       " '6cf430f941a84c4a8a1d60de680221d1',\n",
       " '60401ee42b9c4adf9a4a524fee591245',\n",
       " '8b0ae55a379f46849c8e337dc8e9a91a',\n",
       " '7d9b4c97e5d541c2be88ec6bd3da511e',\n",
       " 'cff53fa143264de9b52b801fd0934369',\n",
       " 'c91d000ef0bf4854ae2bb826edc65b1b',\n",
       " 'ee9fd256bdf340aca473c57088a92c18',\n",
       " '943d7acfd72b456fa4fe9696c4470c9e',\n",
       " 'aed7d04974294efe91ca86aec6c6d477',\n",
       " '4e69dd10c4ce44a585f45384ca2a67aa',\n",
       " '849875ddb9104818be44e36c556b81c9',\n",
       " 'be21e4d2302141058d55e609f30039d9',\n",
       " '6e0acb7491dd489f93b0cd4033b271f0',\n",
       " '45e21738f2504254a9f2cd3c23d77200',\n",
       " '2d79f1f54a7a42239aab9e51e7e8ce07',\n",
       " '56c9513637fd4895888eb09ace536ff2',\n",
       " '449750fb4dd044039d7b476f32b04c6b',\n",
       " 'c8f521ee1e0544e8ac550d2cda2d531d',\n",
       " '67748f878cb74bc693a1a1e61ca3640f',\n",
       " '85bac05bbaa04ee7b3c49bd7ac0cac9a',\n",
       " 'a55cbeec97e8449688877acc65c600fd',\n",
       " 'd44bce3c55f24b8582170adbcd2c8180',\n",
       " '61236f4dafb4414280bdbff42a55fb85',\n",
       " 'a01774ff89154d0cae5a6f979bba5f4c',\n",
       " '61f38dbe20c24228b4a1c9928f10f6a2',\n",
       " '00ad0dd3ebd74fa8849fefb0b2f7b038',\n",
       " 'cad6d1342a5d4f58adaee6949106d1cd',\n",
       " '3db0e349ddb64517930432f92a082d27',\n",
       " '3e32d73c5ca744fbac33b5d7cc702cb3',\n",
       " '95d3c47294a142d59e5ca4ba0cca4223',\n",
       " '2a9be774e5e746fc88672450323355b9',\n",
       " '59c15241b9814019bd868cdd6896d3d0',\n",
       " '912d0cc04a6d431abd18c9c96c7df46b',\n",
       " '0d65f1be898c4979aa65c6711db1a33c',\n",
       " 'aeffcd9a1b3f43609a973a5ec82896e7',\n",
       " '1c31d16ea6b745ae95d513c3f89e9a51',\n",
       " 'c694f65a58954275b940b096b3a10a1c',\n",
       " 'ed89db14293444e79cc065a2f47780c1',\n",
       " 'a4dbd2bf0a224188a9101c17400eb5ea',\n",
       " '12d41750cb4b46f98031aead534fe73f',\n",
       " '414b47ebbec04075b291712a2d366c77',\n",
       " '7072957aebc14fe49c6a942662fe91c9',\n",
       " '1c0cefbccc7b4a7fa581a57c6c5e4d56',\n",
       " '4db6b37fc31d4ad7a25016db15c1bdbe',\n",
       " 'aa67c18651bc45eead66a548dbdbb2be',\n",
       " 'b4ca07e1ae964e47a5370906bc5ed3b4',\n",
       " '61525ab2bc7f4edf931279c8f050dace',\n",
       " '5972418254594ff69b57b046a54c4221',\n",
       " '0ec58ad5349c487f909626ad3b916607',\n",
       " '095830a67c894742840c9492145d38d7',\n",
       " '48389de6c37f46e1ba474ad5c3f926f5',\n",
       " '0e18694f5f6a4b9cbe25ee17b5872f4a',\n",
       " 'ba486ec06b99415b8576513e6d9ceb17',\n",
       " '90c98652ce58441399007ea44fea6f55',\n",
       " 'd894b76815dc49928b1c75e1b2e00548',\n",
       " '00f8740d7b9142f1ab3f433f492f7dea',\n",
       " '904c237e4e7647849c5f9312d38cc290',\n",
       " '0977ed737a8442f290e4ad2f45acce78',\n",
       " '8a9b3f79bf7f4f5ea4f3bdecd3e7ff25',\n",
       " '226cbabbb3ac477b8a2b9b7a02a941b8',\n",
       " '8ffa5a55b2ed4703acc402ca9da234cd',\n",
       " '05bd0e201c0f45d9a9aa668531b5e362',\n",
       " 'afc7793ce2f84d809711adc49dece74e',\n",
       " '9983723f2d564d6fabdd9c66f575af2d',\n",
       " '5dedd1cd659c4053b10efc4d9092bb67',\n",
       " '55c99103e3764079b648bf29f287f62d',\n",
       " '3f5233d3f86c4d738907edb8bb94b59f',\n",
       " 'ad1c2dc9cd3c4bfd93d2c2e07ff12628',\n",
       " 'c339521029b6427d8ca468cd7528379b',\n",
       " 'f2c0d6a177ec4008be623cfa6143b21b',\n",
       " 'b826ab2b5d284dde84cc88bc66d0e403',\n",
       " 'e8daacc34658471f832fb79399a71d75',\n",
       " '1f26eeb1b9314b0396911d0e960cbae5',\n",
       " '6b248a5a407548c187a2c985b5375733',\n",
       " '1e5e01093794467dbefe3396d47d529e',\n",
       " '05003e58ea11499485ea3fb7cc304943',\n",
       " '8237fbc685ed4d12aa2cf5004f184f45',\n",
       " '41276a948ed94e498943cbe41b48140c',\n",
       " '1346169dc43d4587bff398cbfa745c63',\n",
       " '0421ef6e01e2469d83de8c29952ff565',\n",
       " 'b42bde894a304cdda1c65036330f8fc8',\n",
       " 'f466c62579ff438186065058a4396cd7',\n",
       " '41db7e88abe047138a977356860afcda',\n",
       " '085b0c12acd248d4ac3fae36272751ae',\n",
       " 'a6c69cf1bd37432ba8d4ad9e5030b454',\n",
       " '7fbd2dedb9134c2dac86b6bb4d5cee42',\n",
       " 'f81f469e84ce41aa8210af84bc218686',\n",
       " '2d613734cf4949bea7df4993f586f27f',\n",
       " '4db2c715e9834b4ca7b3772c181b9c29',\n",
       " '57e4191bf5da4329a98ed4073743761f',\n",
       " '8a057fc066d14bb09ff568c359b0e461',\n",
       " '6f20987727644671ae15a3eb1f39beb5',\n",
       " '84012cc2d6b84b60b3f5300e06fab7ee',\n",
       " '5aa4fe256ce74caa95325a85358ef342',\n",
       " '236b5c824bc84e6abf0e9b1e1bd8c617',\n",
       " '0dbd5cbe2a2643449c9e853311d2efd0',\n",
       " '037b7fc2f10549098b0ef30dd5584ad6',\n",
       " '5ce87bae2b8f447ab2f4d67262d94df9',\n",
       " '2a5544fb386e44269c4c7cf373c95dd7',\n",
       " '837802c8fe00417d9760518253322abf',\n",
       " '41d6c22f0c624588bd21759504312382',\n",
       " '8a5c49f7edce4c7e80d9a224f809e090',\n",
       " '3221795fa369431e83e953ec0525121e',\n",
       " 'c030a52d278f45ba910288f48e9656ca',\n",
       " 'cfca1ccd81374a5da724fd14ade651a7',\n",
       " '16a0b4ac626541e3893a59e2127be353',\n",
       " 'a4d57d222e194613ab4fe407fa8bf6e3',\n",
       " 'e925897699174b56bf1cdc185e229d83',\n",
       " '50c41fa303c047c0ac13e75c7ea31806',\n",
       " '757e4943536742c388ab33512cafae1e',\n",
       " '25a33829faa44ac18dffcbb755849e40',\n",
       " 'cdcae26feceb453b9f536d1ecdcdfb24',\n",
       " '4e49759c088b48ceaf536fe812ec678c',\n",
       " 'f66f3ee3fe454a1d835e464057f06424',\n",
       " '1fcd78fc25c847ea8fd833bd9db98d8e',\n",
       " '80c89f738796427b888bab8052ed88a9',\n",
       " '5a4ad217c03d49488c5642cb92353a59',\n",
       " 'd0ebe2700d7a41ea81324fa13569aa46',\n",
       " 'b21943d158984305900757131fd0a076',\n",
       " '5d6602e91d8c4d149761a8d7fbafb9c9',\n",
       " '98e064e787d1411aa67baf473bf70693',\n",
       " '1d26c26f594e4b4caa1067f9a0d12ce5',\n",
       " '48071d78d0994196bff5a88ee906423e',\n",
       " 'f636f7be4feb417eb5c6f3f306a6a847',\n",
       " 'c34c1ecf4c1d40088e5a092ac5d39837',\n",
       " 'a3f8f7b1e62d462f815d61f26698199b',\n",
       " 'a2c354fae27a41519b97525a64906c35',\n",
       " '8744d7450f94408dbcbcc411dc51a88a',\n",
       " '695fed4ea2bf48d08002739e9c4b1978',\n",
       " 'af4015738c7b4bfd90c8330bfcad8277',\n",
       " '584238115d3a4618a01af5084ab236eb',\n",
       " '6546def4a42d4c4385b5ae671a79b0bf',\n",
       " '58da4f79b4c54010a72be1ee386bb3e4',\n",
       " '5001535f1bad41189386a0b4d894660b',\n",
       " '55d1a0902d794f5fb193ccc3b81b70d3',\n",
       " '8ff2803b19004e7483bd365119331e21',\n",
       " '3a9a0fda05d3441588b08445ca60c983',\n",
       " 'eb2f0347417d4686ade5191163190cc4',\n",
       " '4b6f972638484e2a9221e2670ac5efea',\n",
       " '53a02cba57ed4628a97de9d608ebdca8',\n",
       " 'c6450a63050b48678fd08e8137dc2b17',\n",
       " '794f4714fb7b48f6996dade188d3badb',\n",
       " 'f97802f4c52d41e9adcc4ca66a502ef8',\n",
       " '192ab2fb32ca49bfa2148d319c880952',\n",
       " 'a5c0544fc57e47f0932e000d3a19ace9',\n",
       " 'b1817ccea5dc41bea9ccfb0e92decc8b',\n",
       " 'c14a20dbe122453f8c9a122e91513b0d',\n",
       " '569a0c0887894e4eb5e13e0a82f2e000',\n",
       " '46b94ce322c9472ba2da14d3231e82e8',\n",
       " 'b471a7b2320a4a7fba4956b5e68c4760',\n",
       " 'e84428c1cc064ab1b6e0019c29eb2361',\n",
       " '158faaca19ca4e6d9c7588cbd5b214c0',\n",
       " '3a76f4e20248494d8403e38b4d4df8d2',\n",
       " '597e702b10cd4a4d9720f3fd7ba36e70',\n",
       " '8015825cbbb042c483f30884abf5b75d',\n",
       " '6d3766f751ea401ca79f8501c8bc2970',\n",
       " '763a5cf999af42a2bcf62eea5129b33c',\n",
       " 'd1e6ac96dd1d4c9a94fd8b1b7d2adacb',\n",
       " '72538e51a2374911a380526c939aadcd',\n",
       " 'cd9b55524bd64e9aa17842554f0005fb',\n",
       " 'ea9198cd59a24758906d90f4df5054ed',\n",
       " '4afe2bc6bc8042a29ed2599a80cc694a',\n",
       " '3a4720758c8c4ae0817fc12cad980144',\n",
       " '6820a2ba7a9a4768ac267212a12d2fa7',\n",
       " '16f2b3d644074aa6b51aace8fb9c36e3',\n",
       " 'fc710e43de0d4bc2b31f04af9b8d15f0',\n",
       " '5a052396ab34468bbc3c1e3b0683f463',\n",
       " 'f572b2822a21414b83d5e59f7ff88437',\n",
       " 'eaf66faf5b8b487680c172dfdebd3fde',\n",
       " '0c36f1d30176470486779ce0b621f3b0',\n",
       " 'fb4919e1f5c944959e595780f0b5c1ca',\n",
       " 'ca036e1602d74c96807b6956f0215a5b',\n",
       " '3b6a171e9b1040428e312a420acc2622',\n",
       " 'df4f67c30b5c4a199d95291164bf9795',\n",
       " 'dfb3ca35b66f4eb09a0db90ede9f2b37',\n",
       " 'c1575905fa234632a35079d09b78583f',\n",
       " '4344a885733b4571abc67bcab6014f1b',\n",
       " '8359fde924d14b44b8c9b96902499c43',\n",
       " '817877c0dbbe40b680d42c14250f227a',\n",
       " 'adecacf24ea743c99c2261a1df7eff01',\n",
       " '0881d6edc62b41bcb8be1e84ac0c2f47',\n",
       " '844a5528dfba4d7fa2820f8a8caa2a85',\n",
       " '31fe3c4b805b47b981785f82d7c64466',\n",
       " '55d29bcd09594e98b40c67feb45f16ec',\n",
       " '396dec14161b40c19153d1037b00d97a',\n",
       " '49f4b9ccc61a4f4fb88ea545a575eda5',\n",
       " 'a247b99651c74ea38bbccf2cbe467e3c',\n",
       " 'eeb02b07c6814894ab67cfb9b43ebf63',\n",
       " 'b6196885bd684ff38243e7e678ec5d2f',\n",
       " '1524433c025849da89891c674a38f17e',\n",
       " '36f08356033540c78847ee9dbc01dcc7',\n",
       " '4a488be0a82548038214134bacd2f6ae',\n",
       " '0868a1d670544e749ce6bdcd26541f33',\n",
       " '63e8dff6d1ee41969ff0b0696eebab36',\n",
       " '894b7ecdd7fa465089f7c14491f90399',\n",
       " 'e1de46d563684225963be42c8629137c',\n",
       " '82afb0b40d4a493880e625b01c466877',\n",
       " '2ddca874800547a8a88413fb6e9c7f05',\n",
       " '47a48390f8574dc999564a0198bdd512',\n",
       " 'c489395b72ff4cd38f62b3682f4611cd',\n",
       " '6e80d71dedfd4cf69ad3d53d318500b4',\n",
       " '2f2410db8aa84eca95ec78e75cd81b55',\n",
       " '62447184bdad45c58b5ed944dbc6992e',\n",
       " '94f115e02c424f0d88029c42be825839',\n",
       " 'fa03d0c36e644ae99d52e91a5d19e343',\n",
       " 'bf4088a024464d3081adaadf9e68885d',\n",
       " '36e558843e2f4f9caa01741d036c0bbf',\n",
       " '26c7839363a14624896d6d8e010e93da',\n",
       " '424ddf15f08341138f36de0c3abc84a9',\n",
       " 'aa612fe1a1ee4959b4d7ea3e033fa3bc',\n",
       " 'f43cb6970eae4dc291d9d9492f3365b4',\n",
       " '6d9fd9b21de544749464cbed74354590',\n",
       " '742db2f1bef14d6abce92c3ff2ad07f0',\n",
       " '19c0d2e307b54ec4b6d57bf15dc6ed92',\n",
       " 'aef5fa2304494282a6d24f7e96571699',\n",
       " 'a70b22b5fe034d9398bcd914dc2b9546',\n",
       " 'a79eb181bd8e40dc86a6dcc1e6261145',\n",
       " '55a54899e5f54462a26ee93d4d1e4e5c',\n",
       " '083772360f9e4e55b99e4209fc79f996',\n",
       " '5cb5a03f520a4636ab229da8c12fa06a',\n",
       " 'be0035352dfb4402a7f20e9d18c6a9a3',\n",
       " 'dd0ad8368f5448d5a409963182356302',\n",
       " 'ffb59438305b41d092fa08ff2e6c0daa',\n",
       " '4e2d4938dc574757a2eb57eda1db54ed',\n",
       " '0938819858ed4d82a6c1074956bb2f6c',\n",
       " '8a1a4f2e7859473093b0b51e321dcbd3',\n",
       " 'ee5a852d92ff472490a3e396ba1e02da',\n",
       " '26699f488a1e4aa8b2ee7d14b1261a90',\n",
       " '8e338f240ef74bb1b8084cdbdb40dab2',\n",
       " '1b33e669dc654c4fa3e4943d0cd4c2d9',\n",
       " '90f47b996ab34e9ea51ee8867d85784f',\n",
       " '822ae14698574c9fa3dc9f64672f7f52',\n",
       " 'a9a43502c9f34cb5a4ca47aaae00a2be',\n",
       " '3811a0c3c2a3484689d94afa986b74f4',\n",
       " '8bcc8196576948b5969f180ff3da781e',\n",
       " 'baa1033079254cf2bdf1a82df4574854',\n",
       " 'deb1e06aae754f21a4d05f20240dadc9',\n",
       " 'c6be5c1b973e4695a5b0c50c4fd77948',\n",
       " '6cfcc3fbfa824500a3eabce87f03c3a2',\n",
       " 'b2a9f9701c9d43d8bffe28af6bfa5c41',\n",
       " '7646236359404738af6a636d1c9ebba5',\n",
       " '79ce8cd010304ca089c49c548050789c',\n",
       " '94d0ff368f0d4509b3f41c6bc66b30e1',\n",
       " '49d533a526424a528811a757d53ad286',\n",
       " '29631846d797424688b00f39265fcf72',\n",
       " '0ed09fe4dc4a4cdf97d5feaceacb5151',\n",
       " 'e1d281e87e2a47438faa4c0ef2c753a8',\n",
       " 'cf171006464c4e0391cf4fc594f27a15',\n",
       " '92982450018741a18099cdd760728303',\n",
       " '40a8171169a7436887b9ed7f966a050d',\n",
       " '3e044bce56384eb79d01bd94fad360fe',\n",
       " 'f316243c476f4d30899e4209dc723456']"
      ]
     },
     "execution_count": 67,
     "metadata": {},
     "output_type": "execute_result"
    }
   ],
   "source": [
    "vstore.add_documents(docs)"
   ]
  },
  {
   "cell_type": "code",
   "execution_count": 68,
   "id": "0097e7c2-c788-4f42-b9f5-fb707126eb61",
   "metadata": {},
   "outputs": [],
   "source": [
    "retriever = vstore.as_retriever(search_kwargs={\"k\": 3})"
   ]
  },
  {
   "cell_type": "code",
   "execution_count": 70,
   "id": "3d310cb5-d62d-4e80-9da8-3d3ea288907c",
   "metadata": {},
   "outputs": [],
   "source": [
    "WINDOW_BOT_TEMPLATE = \"\"\"\n",
    "    You are an advanced AI assistant specializing in window manufacturing. Your extensive knowledge covers all aspects of windows, from design and materials to production processes and installation techniques. Your role is to provide accurate, detailed, and helpful information to customers, manufacturers, and industry professionals.\n",
    "\n",
    "    Key Areas of Expertise:\n",
    "    1. Window Types: Single-hung, double-hung, casement, awning, sliding, bay, bow, picture, transom, etc.\n",
    "    2. Materials: Wood, vinyl, aluminum, fiberglass, composite materials\n",
    "    3. Glass Types: Single-pane, double-pane, triple-pane, low-E coatings, gas fills (argon, krypton)\n",
    "    4. Energy Efficiency: U-factor, Solar Heat Gain Coefficient (SHGC), Energy Star ratings\n",
    "    5. Manufacturing Processes: Extrusion, assembly, glazing, quality control\n",
    "    6. Hardware and Components: Locks, handles, weatherstripping, spacers\n",
    "    7. Customization Options: Sizes, shapes, colors, grilles, muntins\n",
    "    8. Installation Methods: New construction, replacement, retrofit\n",
    "    9. Maintenance and Care: Cleaning, repairs, weatherization\n",
    "    10. Industry Standards and Regulations: AAMA, NFRC, building codes\n",
    "\n",
    "    When answering questions, please adhere to the following guidelines:\n",
    "    - Provide comprehensive, accurate, and up-to-date information\n",
    "    - Use industry-specific terminology where appropriate, but explain technical terms\n",
    "    - Include relevant examples, comparisons, or case studies when applicable\n",
    "    - Address any safety concerns or best practices related to the topic\n",
    "    - If there are multiple approaches or solutions, explain the pros and cons of each\n",
    "    - When discussing manufacturing processes, consider environmental impact and sustainability\n",
    "    - If the question is unclear, ask for clarification before providing an answer\n",
    "    - If the question is outside your area of expertise, clearly state this limitation\n",
    "\n",
    "    Context: {context}\n",
    "\n",
    "    Question: {question}\n",
    "\n",
    "    Based on the context provided and the specific question asked, please provide a detailed, informative, and helpful response. Structure your answer logically, using paragraphs or bullet points as appropriate. If relevant, include any recent innovations or trends in the window manufacturing industry that pertain to the question.\n",
    "\n",
    "    Remember, your goal is to educate and assist the user with expert knowledge on window manufacturing. Ensure your response is clear, concise, and tailored to the user's level of understanding as implied by the context and question.\n",
    "    \"\"\""
   ]
  },
  {
   "cell_type": "code",
   "execution_count": 71,
   "id": "6f863fcf-ffe9-4c43-bc91-5902bfdfde81",
   "metadata": {},
   "outputs": [],
   "source": [
    "from langchain_core.prompts import ChatPromptTemplate"
   ]
  },
  {
   "cell_type": "code",
   "execution_count": 72,
   "id": "4538bb9d-104d-4ad6-b761-d352e386e936",
   "metadata": {},
   "outputs": [],
   "source": [
    "prompt = ChatPromptTemplate.from_template(WINDOW_BOT_TEMPLATE)"
   ]
  },
  {
   "cell_type": "code",
   "execution_count": 73,
   "id": "754d0d31-5243-4ac5-8cfb-052dc33d9098",
   "metadata": {},
   "outputs": [],
   "source": [
    "from langchain_openai import ChatOpenAI"
   ]
  },
  {
   "cell_type": "code",
   "execution_count": 80,
   "id": "fbc83840-3a1f-4789-acae-62b52a9b5ee2",
   "metadata": {},
   "outputs": [],
   "source": [
    "llm = ChatOpenAI(model=\"gpt-4o-mini\")"
   ]
  },
  {
   "cell_type": "code",
   "execution_count": 81,
   "id": "fe1a8820-0e13-4097-868a-3a2180677cdd",
   "metadata": {},
   "outputs": [
    {
     "data": {
      "text/plain": [
       "ChatOpenAI(client=<openai.resources.chat.completions.Completions object at 0x146ac8aa0>, async_client=<openai.resources.chat.completions.AsyncCompletions object at 0x146ac9670>, model_name='gpt-4o-mini', openai_api_key=SecretStr('**********'), openai_proxy='')"
      ]
     },
     "execution_count": 81,
     "metadata": {},
     "output_type": "execute_result"
    }
   ],
   "source": [
    "llm"
   ]
  },
  {
   "cell_type": "code",
   "execution_count": 82,
   "id": "9daa5707-a205-41a7-9271-d925956140a5",
   "metadata": {},
   "outputs": [],
   "source": [
    "from langchain_core.runnables import RunnablePassthrough"
   ]
  },
  {
   "cell_type": "code",
   "execution_count": 83,
   "id": "3fc755f2-7feb-42ee-a61a-f9aa7ce0ebce",
   "metadata": {},
   "outputs": [],
   "source": [
    "from langchain_core.output_parsers import StrOutputParser"
   ]
  },
  {
   "cell_type": "code",
   "execution_count": 84,
   "id": "9af54c2f-5ed9-4dad-b400-3c854b231702",
   "metadata": {},
   "outputs": [],
   "source": [
    "chain = (\n",
    "    {\"context\": retriever, \"question\": RunnablePassthrough()}\n",
    "    | prompt\n",
    "    | llm\n",
    "    | StrOutputParser()\n",
    ")"
   ]
  },
  {
   "cell_type": "code",
   "execution_count": 85,
   "id": "f7feff7e-9f66-4e66-bd26-52272ebb8139",
   "metadata": {},
   "outputs": [
    {
     "data": {
      "text/plain": [
       "'Windows are essential components of any building, offering natural light, ventilation, and aesthetic appeal. They come in various types and styles, each suited to different needs and preferences. Below is an overview of the classifications, materials, and features of windows, as well as maintenance tips to ensure their longevity.\\n\\n### Types of Windows\\n\\n1. **Fixed Windows**: These do not open and are used primarily for light and visibility. They are often seen in large expanses where ventilation is not necessary.\\n\\n2. **Sliding Windows**: These operate by sliding open horizontally. They are easy to use and provide a wide view, making them popular in contemporary designs.\\n\\n3. **Pivoted Windows**: These windows rotate on a pivot point, allowing for ventilation at the top or bottom of the window. They offer flexibility in airflow.\\n\\n4. **Double Hung Windows**: These feature two sashes that slide vertically, allowing for ventilation from both the top and bottom. They are classic and versatile.\\n\\n5. **Louvered Windows**: Composed of slats that can be adjusted, louvered windows provide excellent ventilation. They are often used in warmer climates.\\n\\n6. **Casement Windows**: Hinged at the side, these windows open outward, offering unobstructed views and good airflow. They are often more energy-efficient due to their tight seal when closed.\\n\\n7. **Metal Windows**: Typically made from aluminum or steel, these windows are durable and often used in commercial buildings. They offer a modern aesthetic.\\n\\n8. **Sash Windows**: These consist of one or more movable panels, or sashes, that can slide vertically or horizontally. They are traditional in design and can be found in historic and modern homes alike.\\n\\n9. **Corner Windows**: These wrap around the corner of a building, providing unique views and a distinctive architectural feature.\\n\\n10. **Bay Windows**: These extend outward from the main walls of the building, creating a nook and allowing more light into the room.\\n\\n11. **Dormer Windows**: Installed in a sloping roof, dormers add headspace, light, and ventilation to upper levels of a home.\\n\\n### Materials Used in Windows\\n\\n- **Wood**: Offers excellent insulation and aesthetic appeal but requires regular maintenance to prevent rot and damage.\\n  \\n- **Vinyl**: Low maintenance and energy-efficient. It does not require painting and withstands weather well.\\n  \\n- **Aluminum**: Strong and lightweight, aluminum windows are resistant to corrosion but can conduct heat, affecting energy efficiency.\\n  \\n- **Fiberglass**: Highly durable and energy-efficient, fiberglass can match the appearance of wood while requiring less maintenance.\\n\\n- **Composite Materials**: Combine the benefits of different materials, offering durability and aesthetic versatility.\\n\\n### Glass Types\\n\\n- **Single-Pane**: Basic glass that provides minimal insulation. Generally not recommended for energy efficiency.\\n  \\n- **Double-Pane**: Two layers of glass with a gap that can be filled with gas (argon or krypton) to improve insulation.\\n  \\n- **Triple-Pane**: Three layers of glass that provide superior insulation and soundproofing, ideal for extreme climates.\\n  \\n- **Low-E Coatings**: Reflects infrared light, keeping heat inside in winter and blocking heat from the sun in summer, improving energy efficiency.\\n\\n### Energy Efficiency\\n\\nWhen selecting windows, consider their U-factor (a measure of heat transfer) and Solar Heat Gain Coefficient (SHGC) which indicates how much solar radiation is admitted. Windows with Energy Star ratings meet energy efficiency guidelines set by the EPA.\\n\\n### Maintenance Tips\\n\\nTo maintain windows effectively:\\n- Keep a good coat of paint on all exposed wooden surfaces to prevent decay.\\n- Regularly check seals and weatherstripping for wear and replace as needed.\\n- Clean glass surfaces with non-abrasive cleaners to preserve clarity.\\n- Inspect and replace old glazing compounds to prevent drafts.\\n\\n### Innovations and Trends\\n\\nRecent trends in window manufacturing include increased use of smart technology, such as automated window systems that can adjust based on temperature and light levels. There is also a growing emphasis on sustainability, with manufacturers focusing on eco-friendly materials and processes to reduce environmental impact.\\n\\nIn summary, understanding the various types of windows, their materials, energy-efficient features, and maintenance needs can help you make informed decisions whether you are building, renovating, or simply maintaining a property. If you have specific needs or scenarios in mind, feel free to ask for more tailored advice!'"
      ]
     },
     "execution_count": 85,
     "metadata": {},
     "output_type": "execute_result"
    }
   ],
   "source": [
    "chain.invoke(\"Give me information about the windows?\")"
   ]
  },
  {
   "cell_type": "code",
   "execution_count": null,
   "id": "da6a2c1e-f5e3-418a-b1c1-beb7b71a022c",
   "metadata": {},
   "outputs": [],
   "source": []
  }
 ],
 "metadata": {
  "kernelspec": {
   "display_name": "Python 3 (ipykernel)",
   "language": "python",
   "name": "python3"
  },
  "language_info": {
   "codemirror_mode": {
    "name": "ipython",
    "version": 3
   },
   "file_extension": ".py",
   "mimetype": "text/x-python",
   "name": "python",
   "nbconvert_exporter": "python",
   "pygments_lexer": "ipython3",
   "version": "3.12.1"
  }
 },
 "nbformat": 4,
 "nbformat_minor": 5
}
